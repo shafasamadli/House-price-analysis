{
 "cells": [
  {
   "cell_type": "markdown",
   "id": "e9403a54",
   "metadata": {},
   "source": [
    "# Import dataset and basic operations"
   ]
  },
  {
   "cell_type": "code",
   "execution_count": 190,
   "id": "cd8f2edc",
   "metadata": {},
   "outputs": [],
   "source": [
    "import pandas as pd\n",
    "import numpy as np "
   ]
  },
  {
   "cell_type": "code",
   "execution_count": 191,
   "id": "bcabc482",
   "metadata": {},
   "outputs": [
    {
     "data": {
      "text/html": [
       "<div>\n",
       "<style scoped>\n",
       "    .dataframe tbody tr th:only-of-type {\n",
       "        vertical-align: middle;\n",
       "    }\n",
       "\n",
       "    .dataframe tbody tr th {\n",
       "        vertical-align: top;\n",
       "    }\n",
       "\n",
       "    .dataframe thead th {\n",
       "        text-align: right;\n",
       "    }\n",
       "</style>\n",
       "<table border=\"1\" class=\"dataframe\">\n",
       "  <thead>\n",
       "    <tr style=\"text-align: right;\">\n",
       "      <th></th>\n",
       "      <th>Unnamed: 0</th>\n",
       "      <th>_id</th>\n",
       "      <th>url</th>\n",
       "      <th>crawl_date</th>\n",
       "      <th>title</th>\n",
       "      <th>price</th>\n",
       "      <th>price_currency</th>\n",
       "      <th>poster</th>\n",
       "      <th>poster_type</th>\n",
       "      <th>Ünvan</th>\n",
       "      <th>...</th>\n",
       "      <th>Mərtəbə</th>\n",
       "      <th>Sahə</th>\n",
       "      <th>Otaq sayı</th>\n",
       "      <th>Kupça</th>\n",
       "      <th>İpoteka</th>\n",
       "      <th>locations</th>\n",
       "      <th>latitude</th>\n",
       "      <th>longitude</th>\n",
       "      <th>image_link</th>\n",
       "      <th>seher</th>\n",
       "    </tr>\n",
       "  </thead>\n",
       "  <tbody>\n",
       "    <tr>\n",
       "      <th>0</th>\n",
       "      <td>0</td>\n",
       "      <td>6</td>\n",
       "      <td>https://bina.az/items/1893097</td>\n",
       "      <td>05 Fevral 2021 18:51</td>\n",
       "      <td>Satılır 3 otaqlı yeni tikili 135 m², Gənclik m.</td>\n",
       "      <td>300000</td>\n",
       "      <td>AZN</td>\n",
       "      <td>Mubariz</td>\n",
       "      <td>vasitəçi (agent)</td>\n",
       "      <td>Bakı şəhəri, Bakıxanov  küçəsi</td>\n",
       "      <td>...</td>\n",
       "      <td>5 / 17</td>\n",
       "      <td>135 m²</td>\n",
       "      <td>3</td>\n",
       "      <td>var</td>\n",
       "      <td>yoxdur</td>\n",
       "      <td>\\nGənclik m.\\nRespublika stadionu \\nNərimanov ...</td>\n",
       "      <td>40.400420</td>\n",
       "      <td>49.851554</td>\n",
       "      <td>https://bina.azstatic.com/uploads/large/2021%2...</td>\n",
       "      <td>baki</td>\n",
       "    </tr>\n",
       "    <tr>\n",
       "      <th>1</th>\n",
       "      <td>1</td>\n",
       "      <td>22</td>\n",
       "      <td>https://bina.az/items/1885145</td>\n",
       "      <td>05 Fevral 2021 18:51</td>\n",
       "      <td>Satılır 3 otaqlı yeni tikili 132.5 m², Nəriman...</td>\n",
       "      <td>153000</td>\n",
       "      <td>AZN</td>\n",
       "      <td>Самир Ахмедов</td>\n",
       "      <td>vasitəçi (agent)</td>\n",
       "      <td>Bakı şəhəri, ул.Табриза 21-23</td>\n",
       "      <td>...</td>\n",
       "      <td>10 / 16</td>\n",
       "      <td>132.5 m²</td>\n",
       "      <td>3</td>\n",
       "      <td>yoxdur</td>\n",
       "      <td>yoxdur</td>\n",
       "      <td>\\nŞərq bazarı \\nNərimanov r.\\n\\n</td>\n",
       "      <td>40.389663</td>\n",
       "      <td>49.853717</td>\n",
       "      <td>https://bina.azstatic.com/uploads/large/2021%2...</td>\n",
       "      <td>baki</td>\n",
       "    </tr>\n",
       "    <tr>\n",
       "      <th>2</th>\n",
       "      <td>2</td>\n",
       "      <td>72</td>\n",
       "      <td>https://bina.az/items/1893207</td>\n",
       "      <td>05 Fevral 2021 18:50</td>\n",
       "      <td>Satılır 2 otaqlı yeni tikili 115 m², Bayıl q.</td>\n",
       "      <td>171300</td>\n",
       "      <td>AZN</td>\n",
       "      <td>Fikrət</td>\n",
       "      <td>vasitəçi (agent)</td>\n",
       "      <td>Bakı şəhəri, Q.Abbasov küçəsi</td>\n",
       "      <td>...</td>\n",
       "      <td>7 / 14</td>\n",
       "      <td>115 m²</td>\n",
       "      <td>2</td>\n",
       "      <td>yoxdur</td>\n",
       "      <td>yoxdur</td>\n",
       "      <td>\\nSəbail r.\\nBayıl q.\\n\\n</td>\n",
       "      <td>40.347625</td>\n",
       "      <td>49.836685</td>\n",
       "      <td>https://bina.azstatic.com/uploads/large/2021%2...</td>\n",
       "      <td>baki</td>\n",
       "    </tr>\n",
       "    <tr>\n",
       "      <th>3</th>\n",
       "      <td>3</td>\n",
       "      <td>76</td>\n",
       "      <td>https://bina.az/items/1893213</td>\n",
       "      <td>05 Fevral 2021 18:50</td>\n",
       "      <td>Satılır 2 otaqlı yeni tikili 43 m², Masazır q.</td>\n",
       "      <td>44500</td>\n",
       "      <td>AZN</td>\n",
       "      <td>QASIM</td>\n",
       "      <td>vasitəçi (agent)</td>\n",
       "      <td>Bakı şəhəri, İstiqlaliyyət 14</td>\n",
       "      <td>...</td>\n",
       "      <td>4 / 8</td>\n",
       "      <td>43 m²</td>\n",
       "      <td>2</td>\n",
       "      <td>var</td>\n",
       "      <td>yoxdur</td>\n",
       "      <td>\\nAbşeron r.\\nMasazır q.\\n\\n</td>\n",
       "      <td>40.492294</td>\n",
       "      <td>49.747231</td>\n",
       "      <td>https://bina.azstatic.com/uploads/large/2021%2...</td>\n",
       "      <td>baki</td>\n",
       "    </tr>\n",
       "    <tr>\n",
       "      <th>4</th>\n",
       "      <td>4</td>\n",
       "      <td>86</td>\n",
       "      <td>https://bina.az/items/1893237</td>\n",
       "      <td>05 Fevral 2021 18:49</td>\n",
       "      <td>Satılır 2 otaqlı yeni tikili 65 m², Memar Əcəm...</td>\n",
       "      <td>89900</td>\n",
       "      <td>AZN</td>\n",
       "      <td>Heydər bəy</td>\n",
       "      <td>vasitəçi (agent)</td>\n",
       "      <td>Bakı şəhəri, Mir Cəlal küç.</td>\n",
       "      <td>...</td>\n",
       "      <td>12 / 18</td>\n",
       "      <td>65 m²</td>\n",
       "      <td>2</td>\n",
       "      <td>var</td>\n",
       "      <td>yoxdur</td>\n",
       "      <td>\\nMemar Əcəmi m.\\nNəsimi r.\\n4-cü mikrorayon q...</td>\n",
       "      <td>40.417271</td>\n",
       "      <td>49.810311</td>\n",
       "      <td>https://bina.azstatic.com/uploads/large/2021%2...</td>\n",
       "      <td>baki</td>\n",
       "    </tr>\n",
       "    <tr>\n",
       "      <th>...</th>\n",
       "      <td>...</td>\n",
       "      <td>...</td>\n",
       "      <td>...</td>\n",
       "      <td>...</td>\n",
       "      <td>...</td>\n",
       "      <td>...</td>\n",
       "      <td>...</td>\n",
       "      <td>...</td>\n",
       "      <td>...</td>\n",
       "      <td>...</td>\n",
       "      <td>...</td>\n",
       "      <td>...</td>\n",
       "      <td>...</td>\n",
       "      <td>...</td>\n",
       "      <td>...</td>\n",
       "      <td>...</td>\n",
       "      <td>...</td>\n",
       "      <td>...</td>\n",
       "      <td>...</td>\n",
       "      <td>...</td>\n",
       "      <td>...</td>\n",
       "    </tr>\n",
       "    <tr>\n",
       "      <th>69310</th>\n",
       "      <td>89308</td>\n",
       "      <td>147185</td>\n",
       "      <td>https://bina.az/items/2211371</td>\n",
       "      <td>08 Iyul 2021 11:04</td>\n",
       "      <td>Satılır 4 otaqlı yeni tikili 220 m², Nəsimi r.</td>\n",
       "      <td>550000</td>\n",
       "      <td>AZN</td>\n",
       "      <td>Tofiq Mamedov</td>\n",
       "      <td>vasitəçi (agent)</td>\n",
       "      <td>Bakı şəhəri, Rəşid Behbudov küçəsi</td>\n",
       "      <td>...</td>\n",
       "      <td>17 / 17</td>\n",
       "      <td>220 m²</td>\n",
       "      <td>4</td>\n",
       "      <td>var</td>\n",
       "      <td>yoxdur</td>\n",
       "      <td>\\nAzərbaycan Dillər Universiteti \\nBakı Slavya...</td>\n",
       "      <td>40.384744</td>\n",
       "      <td>49.841745</td>\n",
       "      <td>https://bina.azstatic.com/uploads/large/2021%2...</td>\n",
       "      <td>baki</td>\n",
       "    </tr>\n",
       "    <tr>\n",
       "      <th>69311</th>\n",
       "      <td>89309</td>\n",
       "      <td>147186</td>\n",
       "      <td>https://bina.az/items/2190603</td>\n",
       "      <td>08 Iyul 2021 11:04</td>\n",
       "      <td>Satılır 2 otaqlı yeni tikili 68 m², Nəriman Nə...</td>\n",
       "      <td>177000</td>\n",
       "      <td>AZN</td>\n",
       "      <td>Asef Nagiyev</td>\n",
       "      <td>vasitəçi (agent)</td>\n",
       "      <td>Bakı şəhəri, Faiq Yusifov küç.</td>\n",
       "      <td>...</td>\n",
       "      <td>11 / 17</td>\n",
       "      <td>68 m²</td>\n",
       "      <td>2</td>\n",
       "      <td>yoxdur</td>\n",
       "      <td>yoxdur</td>\n",
       "      <td>\\nNəriman Nərimanov m.\\nNəriman Nərimanov park...</td>\n",
       "      <td>40.402843</td>\n",
       "      <td>49.870677</td>\n",
       "      <td>https://bina.azstatic.com/uploads/large/2021%2...</td>\n",
       "      <td>baki</td>\n",
       "    </tr>\n",
       "    <tr>\n",
       "      <th>69312</th>\n",
       "      <td>89310</td>\n",
       "      <td>147187</td>\n",
       "      <td>https://bina.az/items/2211283</td>\n",
       "      <td>08 Iyul 2021 11:05</td>\n",
       "      <td>Satılır 2 otaqlı yeni tikili 72 m², Xırdalan</td>\n",
       "      <td>46000</td>\n",
       "      <td>AZN</td>\n",
       "      <td>İlkin</td>\n",
       "      <td>vasitəçi (agent)</td>\n",
       "      <td>Xırdalan şəhəri, Heydər Əliyev prospekti</td>\n",
       "      <td>...</td>\n",
       "      <td>7 / 7</td>\n",
       "      <td>72 m²</td>\n",
       "      <td>2</td>\n",
       "      <td>yoxdur</td>\n",
       "      <td>yoxdur</td>\n",
       "      <td>\\nXırdalan\\n\\n</td>\n",
       "      <td>40.463913</td>\n",
       "      <td>49.723795</td>\n",
       "      <td>https://bina.azstatic.com/uploads/large/2021%2...</td>\n",
       "      <td>xirdalan</td>\n",
       "    </tr>\n",
       "    <tr>\n",
       "      <th>69313</th>\n",
       "      <td>89312</td>\n",
       "      <td>147189</td>\n",
       "      <td>https://bina.az/items/2211299</td>\n",
       "      <td>08 Iyul 2021 11:05</td>\n",
       "      <td>Satılır 3 otaqlı yeni tikili 109 m², Xırdalan</td>\n",
       "      <td>109000</td>\n",
       "      <td>AZN</td>\n",
       "      <td>İlkin</td>\n",
       "      <td>vasitəçi (agent)</td>\n",
       "      <td>Xırdalan şəhəri, Heydər Əliyev prospekti</td>\n",
       "      <td>...</td>\n",
       "      <td>4 / 7</td>\n",
       "      <td>109 m²</td>\n",
       "      <td>3</td>\n",
       "      <td>yoxdur</td>\n",
       "      <td>yoxdur</td>\n",
       "      <td>\\nXırdalan\\n\\n</td>\n",
       "      <td>40.462931</td>\n",
       "      <td>49.725277</td>\n",
       "      <td>https://bina.azstatic.com/uploads/large/2021%2...</td>\n",
       "      <td>xirdalan</td>\n",
       "    </tr>\n",
       "    <tr>\n",
       "      <th>69314</th>\n",
       "      <td>89313</td>\n",
       "      <td>147190</td>\n",
       "      <td>https://bina.az/items/2211314</td>\n",
       "      <td>08 Iyul 2021 11:05</td>\n",
       "      <td>Satılır 2 otaqlı yeni tikili 82 m², Xırdalan</td>\n",
       "      <td>74000</td>\n",
       "      <td>AZN</td>\n",
       "      <td>İlkin</td>\n",
       "      <td>vasitəçi (agent)</td>\n",
       "      <td>Xırdalan şəhəri, Heydər Əliyev prospekti</td>\n",
       "      <td>...</td>\n",
       "      <td>13 / 16</td>\n",
       "      <td>82 m²</td>\n",
       "      <td>2</td>\n",
       "      <td>yoxdur</td>\n",
       "      <td>yoxdur</td>\n",
       "      <td>\\nXırdalan\\n\\n</td>\n",
       "      <td>40.453903</td>\n",
       "      <td>49.739916</td>\n",
       "      <td>https://bina.azstatic.com/uploads/large/2021%2...</td>\n",
       "      <td>xirdalan</td>\n",
       "    </tr>\n",
       "  </tbody>\n",
       "</table>\n",
       "<p>69315 rows × 24 columns</p>\n",
       "</div>"
      ],
      "text/plain": [
       "       Unnamed: 0     _id                            url  \\\n",
       "0               0       6  https://bina.az/items/1893097   \n",
       "1               1      22  https://bina.az/items/1885145   \n",
       "2               2      72  https://bina.az/items/1893207   \n",
       "3               3      76  https://bina.az/items/1893213   \n",
       "4               4      86  https://bina.az/items/1893237   \n",
       "...           ...     ...                            ...   \n",
       "69310       89308  147185  https://bina.az/items/2211371   \n",
       "69311       89309  147186  https://bina.az/items/2190603   \n",
       "69312       89310  147187  https://bina.az/items/2211283   \n",
       "69313       89312  147189  https://bina.az/items/2211299   \n",
       "69314       89313  147190  https://bina.az/items/2211314   \n",
       "\n",
       "                 crawl_date  \\\n",
       "0      05 Fevral 2021 18:51   \n",
       "1      05 Fevral 2021 18:51   \n",
       "2      05 Fevral 2021 18:50   \n",
       "3      05 Fevral 2021 18:50   \n",
       "4      05 Fevral 2021 18:49   \n",
       "...                     ...   \n",
       "69310    08 Iyul 2021 11:04   \n",
       "69311    08 Iyul 2021 11:04   \n",
       "69312    08 Iyul 2021 11:05   \n",
       "69313    08 Iyul 2021 11:05   \n",
       "69314    08 Iyul 2021 11:05   \n",
       "\n",
       "                                                   title   price  \\\n",
       "0        Satılır 3 otaqlı yeni tikili 135 m², Gənclik m.  300000   \n",
       "1      Satılır 3 otaqlı yeni tikili 132.5 m², Nəriman...  153000   \n",
       "2          Satılır 2 otaqlı yeni tikili 115 m², Bayıl q.  171300   \n",
       "3         Satılır 2 otaqlı yeni tikili 43 m², Masazır q.   44500   \n",
       "4      Satılır 2 otaqlı yeni tikili 65 m², Memar Əcəm...   89900   \n",
       "...                                                  ...     ...   \n",
       "69310     Satılır 4 otaqlı yeni tikili 220 m², Nəsimi r.  550000   \n",
       "69311  Satılır 2 otaqlı yeni tikili 68 m², Nəriman Nə...  177000   \n",
       "69312       Satılır 2 otaqlı yeni tikili 72 m², Xırdalan   46000   \n",
       "69313      Satılır 3 otaqlı yeni tikili 109 m², Xırdalan  109000   \n",
       "69314       Satılır 2 otaqlı yeni tikili 82 m², Xırdalan   74000   \n",
       "\n",
       "      price_currency         poster       poster_type  \\\n",
       "0                AZN        Mubariz  vasitəçi (agent)   \n",
       "1                AZN  Самир Ахмедов  vasitəçi (agent)   \n",
       "2                AZN         Fikrət  vasitəçi (agent)   \n",
       "3                AZN          QASIM  vasitəçi (agent)   \n",
       "4                AZN     Heydər bəy  vasitəçi (agent)   \n",
       "...              ...            ...               ...   \n",
       "69310            AZN  Tofiq Mamedov  vasitəçi (agent)   \n",
       "69311            AZN   Asef Nagiyev  vasitəçi (agent)   \n",
       "69312            AZN          İlkin  vasitəçi (agent)   \n",
       "69313            AZN          İlkin  vasitəçi (agent)   \n",
       "69314            AZN          İlkin  vasitəçi (agent)   \n",
       "\n",
       "                                           Ünvan  ...  Mərtəbə      Sahə  \\\n",
       "0               Bakı şəhəri, Bakıxanov  küçəsi    ...   5 / 17    135 m²   \n",
       "1                  Bakı şəhəri, ул.Табриза 21-23  ...  10 / 16  132.5 m²   \n",
       "2                  Bakı şəhəri, Q.Abbasov küçəsi  ...   7 / 14    115 m²   \n",
       "3                  Bakı şəhəri, İstiqlaliyyət 14  ...    4 / 8     43 m²   \n",
       "4                    Bakı şəhəri, Mir Cəlal küç.  ...  12 / 18     65 m²   \n",
       "...                                          ...  ...      ...       ...   \n",
       "69310         Bakı şəhəri, Rəşid Behbudov küçəsi  ...  17 / 17    220 m²   \n",
       "69311             Bakı şəhəri, Faiq Yusifov küç.  ...  11 / 17     68 m²   \n",
       "69312   Xırdalan şəhəri, Heydər Əliyev prospekti  ...    7 / 7     72 m²   \n",
       "69313   Xırdalan şəhəri, Heydər Əliyev prospekti  ...    4 / 7    109 m²   \n",
       "69314   Xırdalan şəhəri, Heydər Əliyev prospekti  ...  13 / 16     82 m²   \n",
       "\n",
       "      Otaq sayı   Kupça İpoteka  \\\n",
       "0             3     var  yoxdur   \n",
       "1             3  yoxdur  yoxdur   \n",
       "2             2  yoxdur  yoxdur   \n",
       "3             2     var  yoxdur   \n",
       "4             2     var  yoxdur   \n",
       "...         ...     ...     ...   \n",
       "69310         4     var  yoxdur   \n",
       "69311         2  yoxdur  yoxdur   \n",
       "69312         2  yoxdur  yoxdur   \n",
       "69313         3  yoxdur  yoxdur   \n",
       "69314         2  yoxdur  yoxdur   \n",
       "\n",
       "                                               locations   latitude  \\\n",
       "0      \\nGənclik m.\\nRespublika stadionu \\nNərimanov ...  40.400420   \n",
       "1                       \\nŞərq bazarı \\nNərimanov r.\\n\\n  40.389663   \n",
       "2                              \\nSəbail r.\\nBayıl q.\\n\\n  40.347625   \n",
       "3                           \\nAbşeron r.\\nMasazır q.\\n\\n  40.492294   \n",
       "4      \\nMemar Əcəmi m.\\nNəsimi r.\\n4-cü mikrorayon q...  40.417271   \n",
       "...                                                  ...        ...   \n",
       "69310  \\nAzərbaycan Dillər Universiteti \\nBakı Slavya...  40.384744   \n",
       "69311  \\nNəriman Nərimanov m.\\nNəriman Nərimanov park...  40.402843   \n",
       "69312                                     \\nXırdalan\\n\\n  40.463913   \n",
       "69313                                     \\nXırdalan\\n\\n  40.462931   \n",
       "69314                                     \\nXırdalan\\n\\n  40.453903   \n",
       "\n",
       "       longitude                                         image_link     seher  \n",
       "0      49.851554  https://bina.azstatic.com/uploads/large/2021%2...      baki  \n",
       "1      49.853717  https://bina.azstatic.com/uploads/large/2021%2...      baki  \n",
       "2      49.836685  https://bina.azstatic.com/uploads/large/2021%2...      baki  \n",
       "3      49.747231  https://bina.azstatic.com/uploads/large/2021%2...      baki  \n",
       "4      49.810311  https://bina.azstatic.com/uploads/large/2021%2...      baki  \n",
       "...          ...                                                ...       ...  \n",
       "69310  49.841745  https://bina.azstatic.com/uploads/large/2021%2...      baki  \n",
       "69311  49.870677  https://bina.azstatic.com/uploads/large/2021%2...      baki  \n",
       "69312  49.723795  https://bina.azstatic.com/uploads/large/2021%2...  xirdalan  \n",
       "69313  49.725277  https://bina.azstatic.com/uploads/large/2021%2...  xirdalan  \n",
       "69314  49.739916  https://bina.azstatic.com/uploads/large/2021%2...  xirdalan  \n",
       "\n",
       "[69315 rows x 24 columns]"
      ]
     },
     "execution_count": 191,
     "metadata": {},
     "output_type": "execute_result"
    }
   ],
   "source": [
    "df = pd.read_csv(\"C:/Users/ACER/Downloads/bina_az_yt.csv\")\n",
    "df"
   ]
  },
  {
   "cell_type": "code",
   "execution_count": 192,
   "id": "584f355d",
   "metadata": {},
   "outputs": [
    {
     "name": "stdout",
     "output_type": "stream",
     "text": [
      "<class 'pandas.core.frame.DataFrame'>\n",
      "RangeIndex: 69315 entries, 0 to 69314\n",
      "Data columns (total 24 columns):\n",
      " #   Column          Non-Null Count  Dtype  \n",
      "---  ------          --------------  -----  \n",
      " 0   Unnamed: 0      69315 non-null  int64  \n",
      " 1   _id             69315 non-null  int64  \n",
      " 2   url             69315 non-null  object \n",
      " 3   crawl_date      69315 non-null  object \n",
      " 4   title           69315 non-null  object \n",
      " 5   price           69315 non-null  int64  \n",
      " 6   price_currency  69315 non-null  object \n",
      " 7   poster          69315 non-null  object \n",
      " 8   poster_type     69315 non-null  object \n",
      " 9   Ünvan           69315 non-null  object \n",
      " 10  description     69192 non-null  object \n",
      " 11  Elanın nömrəsi  69315 non-null  int64  \n",
      " 12  Yeniləndi       69315 non-null  object \n",
      " 13  Kateqoriya      69315 non-null  object \n",
      " 14  Mərtəbə         69315 non-null  object \n",
      " 15  Sahə            69315 non-null  object \n",
      " 16  Otaq sayı       69315 non-null  int64  \n",
      " 17  Kupça           69314 non-null  object \n",
      " 18  İpoteka         69315 non-null  object \n",
      " 19  locations       69315 non-null  object \n",
      " 20  latitude        69315 non-null  float64\n",
      " 21  longitude       69315 non-null  float64\n",
      " 22  image_link      69315 non-null  object \n",
      " 23  seher           69315 non-null  object \n",
      "dtypes: float64(2), int64(5), object(17)\n",
      "memory usage: 12.7+ MB\n"
     ]
    }
   ],
   "source": [
    "df.info()"
   ]
  },
  {
   "cell_type": "code",
   "execution_count": 193,
   "id": "3f62c06a",
   "metadata": {},
   "outputs": [
    {
     "data": {
      "text/plain": [
       "(69315, 24)"
      ]
     },
     "execution_count": 193,
     "metadata": {},
     "output_type": "execute_result"
    }
   ],
   "source": [
    "df.shape"
   ]
  },
  {
   "cell_type": "code",
   "execution_count": 194,
   "id": "fdbc4ab1",
   "metadata": {},
   "outputs": [
    {
     "data": {
      "text/plain": [
       "Unnamed: 0          int64\n",
       "_id                 int64\n",
       "url                object\n",
       "crawl_date         object\n",
       "title              object\n",
       "price               int64\n",
       "price_currency     object\n",
       "poster             object\n",
       "poster_type        object\n",
       "Ünvan              object\n",
       "description        object\n",
       "Elanın nömrəsi      int64\n",
       "Yeniləndi          object\n",
       "Kateqoriya         object\n",
       "Mərtəbə            object\n",
       "Sahə               object\n",
       "Otaq sayı           int64\n",
       "Kupça              object\n",
       "İpoteka            object\n",
       "locations          object\n",
       "latitude          float64\n",
       "longitude         float64\n",
       "image_link         object\n",
       "seher              object\n",
       "dtype: object"
      ]
     },
     "execution_count": 194,
     "metadata": {},
     "output_type": "execute_result"
    }
   ],
   "source": [
    "df.dtypes"
   ]
  },
  {
   "cell_type": "code",
   "execution_count": 195,
   "id": "754a3202",
   "metadata": {},
   "outputs": [
    {
     "data": {
      "text/plain": [
       "count    6.931500e+04\n",
       "mean     1.928901e+05\n",
       "std      1.880708e+05\n",
       "min      1.000000e+01\n",
       "25%      1.050000e+05\n",
       "50%      1.500000e+05\n",
       "75%      2.290000e+05\n",
       "max      1.275000e+07\n",
       "Name: price, dtype: float64"
      ]
     },
     "execution_count": 195,
     "metadata": {},
     "output_type": "execute_result"
    }
   ],
   "source": [
    "df[\"price\"].describe() # we have to apply this method for numerical values and except price other values are not neccessary to analyze statistics "
   ]
  },
  {
   "cell_type": "markdown",
   "id": "09174a17",
   "metadata": {},
   "source": [
    "# Check missing values "
   ]
  },
  {
   "cell_type": "code",
   "execution_count": 196,
   "id": "5a8031eb",
   "metadata": {},
   "outputs": [
    {
     "data": {
      "text/html": [
       "<div>\n",
       "<style scoped>\n",
       "    .dataframe tbody tr th:only-of-type {\n",
       "        vertical-align: middle;\n",
       "    }\n",
       "\n",
       "    .dataframe tbody tr th {\n",
       "        vertical-align: top;\n",
       "    }\n",
       "\n",
       "    .dataframe thead th {\n",
       "        text-align: right;\n",
       "    }\n",
       "</style>\n",
       "<table border=\"1\" class=\"dataframe\">\n",
       "  <thead>\n",
       "    <tr style=\"text-align: right;\">\n",
       "      <th></th>\n",
       "      <th>Unnamed: 0</th>\n",
       "      <th>_id</th>\n",
       "      <th>url</th>\n",
       "      <th>crawl_date</th>\n",
       "      <th>title</th>\n",
       "      <th>price</th>\n",
       "      <th>price_currency</th>\n",
       "      <th>poster</th>\n",
       "      <th>poster_type</th>\n",
       "      <th>Ünvan</th>\n",
       "      <th>...</th>\n",
       "      <th>Mərtəbə</th>\n",
       "      <th>Sahə</th>\n",
       "      <th>Otaq sayı</th>\n",
       "      <th>Kupça</th>\n",
       "      <th>İpoteka</th>\n",
       "      <th>locations</th>\n",
       "      <th>latitude</th>\n",
       "      <th>longitude</th>\n",
       "      <th>image_link</th>\n",
       "      <th>seher</th>\n",
       "    </tr>\n",
       "  </thead>\n",
       "  <tbody>\n",
       "    <tr>\n",
       "      <th>0</th>\n",
       "      <td>False</td>\n",
       "      <td>False</td>\n",
       "      <td>False</td>\n",
       "      <td>False</td>\n",
       "      <td>False</td>\n",
       "      <td>False</td>\n",
       "      <td>False</td>\n",
       "      <td>False</td>\n",
       "      <td>False</td>\n",
       "      <td>False</td>\n",
       "      <td>...</td>\n",
       "      <td>False</td>\n",
       "      <td>False</td>\n",
       "      <td>False</td>\n",
       "      <td>False</td>\n",
       "      <td>False</td>\n",
       "      <td>False</td>\n",
       "      <td>False</td>\n",
       "      <td>False</td>\n",
       "      <td>False</td>\n",
       "      <td>False</td>\n",
       "    </tr>\n",
       "    <tr>\n",
       "      <th>1</th>\n",
       "      <td>False</td>\n",
       "      <td>False</td>\n",
       "      <td>False</td>\n",
       "      <td>False</td>\n",
       "      <td>False</td>\n",
       "      <td>False</td>\n",
       "      <td>False</td>\n",
       "      <td>False</td>\n",
       "      <td>False</td>\n",
       "      <td>False</td>\n",
       "      <td>...</td>\n",
       "      <td>False</td>\n",
       "      <td>False</td>\n",
       "      <td>False</td>\n",
       "      <td>False</td>\n",
       "      <td>False</td>\n",
       "      <td>False</td>\n",
       "      <td>False</td>\n",
       "      <td>False</td>\n",
       "      <td>False</td>\n",
       "      <td>False</td>\n",
       "    </tr>\n",
       "    <tr>\n",
       "      <th>2</th>\n",
       "      <td>False</td>\n",
       "      <td>False</td>\n",
       "      <td>False</td>\n",
       "      <td>False</td>\n",
       "      <td>False</td>\n",
       "      <td>False</td>\n",
       "      <td>False</td>\n",
       "      <td>False</td>\n",
       "      <td>False</td>\n",
       "      <td>False</td>\n",
       "      <td>...</td>\n",
       "      <td>False</td>\n",
       "      <td>False</td>\n",
       "      <td>False</td>\n",
       "      <td>False</td>\n",
       "      <td>False</td>\n",
       "      <td>False</td>\n",
       "      <td>False</td>\n",
       "      <td>False</td>\n",
       "      <td>False</td>\n",
       "      <td>False</td>\n",
       "    </tr>\n",
       "    <tr>\n",
       "      <th>3</th>\n",
       "      <td>False</td>\n",
       "      <td>False</td>\n",
       "      <td>False</td>\n",
       "      <td>False</td>\n",
       "      <td>False</td>\n",
       "      <td>False</td>\n",
       "      <td>False</td>\n",
       "      <td>False</td>\n",
       "      <td>False</td>\n",
       "      <td>False</td>\n",
       "      <td>...</td>\n",
       "      <td>False</td>\n",
       "      <td>False</td>\n",
       "      <td>False</td>\n",
       "      <td>False</td>\n",
       "      <td>False</td>\n",
       "      <td>False</td>\n",
       "      <td>False</td>\n",
       "      <td>False</td>\n",
       "      <td>False</td>\n",
       "      <td>False</td>\n",
       "    </tr>\n",
       "    <tr>\n",
       "      <th>4</th>\n",
       "      <td>False</td>\n",
       "      <td>False</td>\n",
       "      <td>False</td>\n",
       "      <td>False</td>\n",
       "      <td>False</td>\n",
       "      <td>False</td>\n",
       "      <td>False</td>\n",
       "      <td>False</td>\n",
       "      <td>False</td>\n",
       "      <td>False</td>\n",
       "      <td>...</td>\n",
       "      <td>False</td>\n",
       "      <td>False</td>\n",
       "      <td>False</td>\n",
       "      <td>False</td>\n",
       "      <td>False</td>\n",
       "      <td>False</td>\n",
       "      <td>False</td>\n",
       "      <td>False</td>\n",
       "      <td>False</td>\n",
       "      <td>False</td>\n",
       "    </tr>\n",
       "    <tr>\n",
       "      <th>...</th>\n",
       "      <td>...</td>\n",
       "      <td>...</td>\n",
       "      <td>...</td>\n",
       "      <td>...</td>\n",
       "      <td>...</td>\n",
       "      <td>...</td>\n",
       "      <td>...</td>\n",
       "      <td>...</td>\n",
       "      <td>...</td>\n",
       "      <td>...</td>\n",
       "      <td>...</td>\n",
       "      <td>...</td>\n",
       "      <td>...</td>\n",
       "      <td>...</td>\n",
       "      <td>...</td>\n",
       "      <td>...</td>\n",
       "      <td>...</td>\n",
       "      <td>...</td>\n",
       "      <td>...</td>\n",
       "      <td>...</td>\n",
       "      <td>...</td>\n",
       "    </tr>\n",
       "    <tr>\n",
       "      <th>69310</th>\n",
       "      <td>False</td>\n",
       "      <td>False</td>\n",
       "      <td>False</td>\n",
       "      <td>False</td>\n",
       "      <td>False</td>\n",
       "      <td>False</td>\n",
       "      <td>False</td>\n",
       "      <td>False</td>\n",
       "      <td>False</td>\n",
       "      <td>False</td>\n",
       "      <td>...</td>\n",
       "      <td>False</td>\n",
       "      <td>False</td>\n",
       "      <td>False</td>\n",
       "      <td>False</td>\n",
       "      <td>False</td>\n",
       "      <td>False</td>\n",
       "      <td>False</td>\n",
       "      <td>False</td>\n",
       "      <td>False</td>\n",
       "      <td>False</td>\n",
       "    </tr>\n",
       "    <tr>\n",
       "      <th>69311</th>\n",
       "      <td>False</td>\n",
       "      <td>False</td>\n",
       "      <td>False</td>\n",
       "      <td>False</td>\n",
       "      <td>False</td>\n",
       "      <td>False</td>\n",
       "      <td>False</td>\n",
       "      <td>False</td>\n",
       "      <td>False</td>\n",
       "      <td>False</td>\n",
       "      <td>...</td>\n",
       "      <td>False</td>\n",
       "      <td>False</td>\n",
       "      <td>False</td>\n",
       "      <td>False</td>\n",
       "      <td>False</td>\n",
       "      <td>False</td>\n",
       "      <td>False</td>\n",
       "      <td>False</td>\n",
       "      <td>False</td>\n",
       "      <td>False</td>\n",
       "    </tr>\n",
       "    <tr>\n",
       "      <th>69312</th>\n",
       "      <td>False</td>\n",
       "      <td>False</td>\n",
       "      <td>False</td>\n",
       "      <td>False</td>\n",
       "      <td>False</td>\n",
       "      <td>False</td>\n",
       "      <td>False</td>\n",
       "      <td>False</td>\n",
       "      <td>False</td>\n",
       "      <td>False</td>\n",
       "      <td>...</td>\n",
       "      <td>False</td>\n",
       "      <td>False</td>\n",
       "      <td>False</td>\n",
       "      <td>False</td>\n",
       "      <td>False</td>\n",
       "      <td>False</td>\n",
       "      <td>False</td>\n",
       "      <td>False</td>\n",
       "      <td>False</td>\n",
       "      <td>False</td>\n",
       "    </tr>\n",
       "    <tr>\n",
       "      <th>69313</th>\n",
       "      <td>False</td>\n",
       "      <td>False</td>\n",
       "      <td>False</td>\n",
       "      <td>False</td>\n",
       "      <td>False</td>\n",
       "      <td>False</td>\n",
       "      <td>False</td>\n",
       "      <td>False</td>\n",
       "      <td>False</td>\n",
       "      <td>False</td>\n",
       "      <td>...</td>\n",
       "      <td>False</td>\n",
       "      <td>False</td>\n",
       "      <td>False</td>\n",
       "      <td>False</td>\n",
       "      <td>False</td>\n",
       "      <td>False</td>\n",
       "      <td>False</td>\n",
       "      <td>False</td>\n",
       "      <td>False</td>\n",
       "      <td>False</td>\n",
       "    </tr>\n",
       "    <tr>\n",
       "      <th>69314</th>\n",
       "      <td>False</td>\n",
       "      <td>False</td>\n",
       "      <td>False</td>\n",
       "      <td>False</td>\n",
       "      <td>False</td>\n",
       "      <td>False</td>\n",
       "      <td>False</td>\n",
       "      <td>False</td>\n",
       "      <td>False</td>\n",
       "      <td>False</td>\n",
       "      <td>...</td>\n",
       "      <td>False</td>\n",
       "      <td>False</td>\n",
       "      <td>False</td>\n",
       "      <td>False</td>\n",
       "      <td>False</td>\n",
       "      <td>False</td>\n",
       "      <td>False</td>\n",
       "      <td>False</td>\n",
       "      <td>False</td>\n",
       "      <td>False</td>\n",
       "    </tr>\n",
       "  </tbody>\n",
       "</table>\n",
       "<p>69315 rows × 24 columns</p>\n",
       "</div>"
      ],
      "text/plain": [
       "       Unnamed: 0    _id    url  crawl_date  title  price  price_currency  \\\n",
       "0           False  False  False       False  False  False           False   \n",
       "1           False  False  False       False  False  False           False   \n",
       "2           False  False  False       False  False  False           False   \n",
       "3           False  False  False       False  False  False           False   \n",
       "4           False  False  False       False  False  False           False   \n",
       "...           ...    ...    ...         ...    ...    ...             ...   \n",
       "69310       False  False  False       False  False  False           False   \n",
       "69311       False  False  False       False  False  False           False   \n",
       "69312       False  False  False       False  False  False           False   \n",
       "69313       False  False  False       False  False  False           False   \n",
       "69314       False  False  False       False  False  False           False   \n",
       "\n",
       "       poster  poster_type  Ünvan  ...  Mərtəbə   Sahə  Otaq sayı  Kupça  \\\n",
       "0       False        False  False  ...    False  False      False  False   \n",
       "1       False        False  False  ...    False  False      False  False   \n",
       "2       False        False  False  ...    False  False      False  False   \n",
       "3       False        False  False  ...    False  False      False  False   \n",
       "4       False        False  False  ...    False  False      False  False   \n",
       "...       ...          ...    ...  ...      ...    ...        ...    ...   \n",
       "69310   False        False  False  ...    False  False      False  False   \n",
       "69311   False        False  False  ...    False  False      False  False   \n",
       "69312   False        False  False  ...    False  False      False  False   \n",
       "69313   False        False  False  ...    False  False      False  False   \n",
       "69314   False        False  False  ...    False  False      False  False   \n",
       "\n",
       "       İpoteka  locations  latitude  longitude  image_link  seher  \n",
       "0        False      False     False      False       False  False  \n",
       "1        False      False     False      False       False  False  \n",
       "2        False      False     False      False       False  False  \n",
       "3        False      False     False      False       False  False  \n",
       "4        False      False     False      False       False  False  \n",
       "...        ...        ...       ...        ...         ...    ...  \n",
       "69310    False      False     False      False       False  False  \n",
       "69311    False      False     False      False       False  False  \n",
       "69312    False      False     False      False       False  False  \n",
       "69313    False      False     False      False       False  False  \n",
       "69314    False      False     False      False       False  False  \n",
       "\n",
       "[69315 rows x 24 columns]"
      ]
     },
     "execution_count": 196,
     "metadata": {},
     "output_type": "execute_result"
    }
   ],
   "source": [
    "df.isnull()"
   ]
  },
  {
   "cell_type": "code",
   "execution_count": 197,
   "id": "031940e0",
   "metadata": {},
   "outputs": [
    {
     "data": {
      "text/plain": [
       "Unnamed: 0          0\n",
       "_id                 0\n",
       "url                 0\n",
       "crawl_date          0\n",
       "title               0\n",
       "price               0\n",
       "price_currency      0\n",
       "poster              0\n",
       "poster_type         0\n",
       "Ünvan               0\n",
       "description       123\n",
       "Elanın nömrəsi      0\n",
       "Yeniləndi           0\n",
       "Kateqoriya          0\n",
       "Mərtəbə             0\n",
       "Sahə                0\n",
       "Otaq sayı           0\n",
       "Kupça               1\n",
       "İpoteka             0\n",
       "locations           0\n",
       "latitude            0\n",
       "longitude           0\n",
       "image_link          0\n",
       "seher               0\n",
       "dtype: int64"
      ]
     },
     "execution_count": 197,
     "metadata": {},
     "output_type": "execute_result"
    }
   ],
   "source": [
    "df.isnull().sum()"
   ]
  },
  {
   "cell_type": "code",
   "execution_count": 198,
   "id": "c55afc1d",
   "metadata": {},
   "outputs": [
    {
     "data": {
      "text/plain": [
       "var       50320\n",
       "yoxdur    18994\n",
       "Name: Kupça, dtype: int64"
      ]
     },
     "execution_count": 198,
     "metadata": {},
     "output_type": "execute_result"
    }
   ],
   "source": [
    "df[\"Kupça\"].value_counts()"
   ]
  },
  {
   "cell_type": "raw",
   "id": "136e3580",
   "metadata": {},
   "source": [
    "Result: one missing value in Kupça column and 123 missing values in description column "
   ]
  },
  {
   "cell_type": "code",
   "execution_count": null,
   "id": "eda592e4",
   "metadata": {},
   "outputs": [],
   "source": []
  },
  {
   "cell_type": "markdown",
   "id": "510e6193",
   "metadata": {},
   "source": [
    "# Vizualization techniques"
   ]
  },
  {
   "cell_type": "code",
   "execution_count": 199,
   "id": "83c72659",
   "metadata": {},
   "outputs": [
    {
     "data": {
      "text/plain": [
       "<AxesSubplot:>"
      ]
     },
     "execution_count": 199,
     "metadata": {},
     "output_type": "execute_result"
    },
    {
     "data": {
      "image/png": "[encoded data removed]",
      "text/plain": [
       "<Figure size 1080x360 with 1 Axes>"
      ]
     },
     "metadata": {
      "needs_background": "light"
     },
     "output_type": "display_data"
    }
   ],
   "source": [
    "df.plot(kind=\"box\",figsize=(15,5)) # it is also way of detecting outliers"
   ]
  },
  {
   "cell_type": "code",
   "execution_count": 200,
   "id": "00cbca49",
   "metadata": {},
   "outputs": [
    {
     "data": {
      "text/plain": [
       "<AxesSubplot:xlabel='Otaq sayı', ylabel='price'>"
      ]
     },
     "execution_count": 200,
     "metadata": {},
     "output_type": "execute_result"
    },
    {
     "data": {
      "image/png": "[encoded data removed]",
      "text/plain": [
       "<Figure size 720x432 with 1 Axes>"
      ]
     },
     "metadata": {
      "needs_background": "light"
     },
     "output_type": "display_data"
    }
   ],
   "source": [
    "df.plot(kind=\"scatter\",x=\"Otaq sayı\",y=\"price\",figsize=(10,6))  # relationship between these two columns"
   ]
  },
  {
   "cell_type": "code",
   "execution_count": 201,
   "id": "921259c9",
   "metadata": {},
   "outputs": [
    {
     "data": {
      "text/html": [
       "<div>\n",
       "<style scoped>\n",
       "    .dataframe tbody tr th:only-of-type {\n",
       "        vertical-align: middle;\n",
       "    }\n",
       "\n",
       "    .dataframe tbody tr th {\n",
       "        vertical-align: top;\n",
       "    }\n",
       "\n",
       "    .dataframe thead th {\n",
       "        text-align: right;\n",
       "    }\n",
       "</style>\n",
       "<table border=\"1\" class=\"dataframe\">\n",
       "  <thead>\n",
       "    <tr style=\"text-align: right;\">\n",
       "      <th></th>\n",
       "      <th>Unnamed: 0</th>\n",
       "      <th>_id</th>\n",
       "      <th>price</th>\n",
       "      <th>Elanın nömrəsi</th>\n",
       "      <th>Otaq sayı</th>\n",
       "      <th>latitude</th>\n",
       "      <th>longitude</th>\n",
       "    </tr>\n",
       "  </thead>\n",
       "  <tbody>\n",
       "    <tr>\n",
       "      <th>Unnamed: 0</th>\n",
       "      <td>1.000000</td>\n",
       "      <td>0.987098</td>\n",
       "      <td>-0.018834</td>\n",
       "      <td>0.793360</td>\n",
       "      <td>-0.015395</td>\n",
       "      <td>0.000396</td>\n",
       "      <td>0.004475</td>\n",
       "    </tr>\n",
       "    <tr>\n",
       "      <th>_id</th>\n",
       "      <td>0.987098</td>\n",
       "      <td>1.000000</td>\n",
       "      <td>-0.020693</td>\n",
       "      <td>0.811406</td>\n",
       "      <td>-0.016149</td>\n",
       "      <td>0.000639</td>\n",
       "      <td>0.004450</td>\n",
       "    </tr>\n",
       "    <tr>\n",
       "      <th>price</th>\n",
       "      <td>-0.018834</td>\n",
       "      <td>-0.020693</td>\n",
       "      <td>1.000000</td>\n",
       "      <td>-0.101948</td>\n",
       "      <td>0.535966</td>\n",
       "      <td>-0.030072</td>\n",
       "      <td>0.000175</td>\n",
       "    </tr>\n",
       "    <tr>\n",
       "      <th>Elanın nömrəsi</th>\n",
       "      <td>0.793360</td>\n",
       "      <td>0.811406</td>\n",
       "      <td>-0.101948</td>\n",
       "      <td>1.000000</td>\n",
       "      <td>-0.052807</td>\n",
       "      <td>0.002375</td>\n",
       "      <td>0.004033</td>\n",
       "    </tr>\n",
       "    <tr>\n",
       "      <th>Otaq sayı</th>\n",
       "      <td>-0.015395</td>\n",
       "      <td>-0.016149</td>\n",
       "      <td>0.535966</td>\n",
       "      <td>-0.052807</td>\n",
       "      <td>1.000000</td>\n",
       "      <td>-0.017259</td>\n",
       "      <td>0.000978</td>\n",
       "    </tr>\n",
       "    <tr>\n",
       "      <th>latitude</th>\n",
       "      <td>0.000396</td>\n",
       "      <td>0.000639</td>\n",
       "      <td>-0.030072</td>\n",
       "      <td>0.002375</td>\n",
       "      <td>-0.017259</td>\n",
       "      <td>1.000000</td>\n",
       "      <td>-0.986795</td>\n",
       "    </tr>\n",
       "    <tr>\n",
       "      <th>longitude</th>\n",
       "      <td>0.004475</td>\n",
       "      <td>0.004450</td>\n",
       "      <td>0.000175</td>\n",
       "      <td>0.004033</td>\n",
       "      <td>0.000978</td>\n",
       "      <td>-0.986795</td>\n",
       "      <td>1.000000</td>\n",
       "    </tr>\n",
       "  </tbody>\n",
       "</table>\n",
       "</div>"
      ],
      "text/plain": [
       "                Unnamed: 0       _id     price  Elanın nömrəsi  Otaq sayı  \\\n",
       "Unnamed: 0        1.000000  0.987098 -0.018834        0.793360  -0.015395   \n",
       "_id               0.987098  1.000000 -0.020693        0.811406  -0.016149   \n",
       "price            -0.018834 -0.020693  1.000000       -0.101948   0.535966   \n",
       "Elanın nömrəsi    0.793360  0.811406 -0.101948        1.000000  -0.052807   \n",
       "Otaq sayı        -0.015395 -0.016149  0.535966       -0.052807   1.000000   \n",
       "latitude          0.000396  0.000639 -0.030072        0.002375  -0.017259   \n",
       "longitude         0.004475  0.004450  0.000175        0.004033   0.000978   \n",
       "\n",
       "                latitude  longitude  \n",
       "Unnamed: 0      0.000396   0.004475  \n",
       "_id             0.000639   0.004450  \n",
       "price          -0.030072   0.000175  \n",
       "Elanın nömrəsi  0.002375   0.004033  \n",
       "Otaq sayı      -0.017259   0.000978  \n",
       "latitude        1.000000  -0.986795  \n",
       "longitude      -0.986795   1.000000  "
      ]
     },
     "execution_count": 201,
     "metadata": {},
     "output_type": "execute_result"
    }
   ],
   "source": [
    "# corr() to see the relationship between variables\n",
    "df.corr()"
   ]
  },
  {
   "cell_type": "code",
   "execution_count": 202,
   "id": "68282ca1",
   "metadata": {},
   "outputs": [
    {
     "data": {
      "image/png": "[encoded data removed]",
      "text/plain": [
       "<Figure size 720x432 with 2 Axes>"
      ]
     },
     "metadata": {
      "needs_background": "light"
     },
     "output_type": "display_data"
    }
   ],
   "source": [
    "# heatmap to visualize correlation results \n",
    "import seaborn as sns\n",
    "import matplotlib.pyplot as plt\n",
    "f, ax = plt.subplots(figsize=(10, 6))\n",
    "sns.heatmap(df.corr(), vmax=.8, square=True);"
   ]
  },
  {
   "cell_type": "code",
   "execution_count": 203,
   "id": "d6118750",
   "metadata": {},
   "outputs": [
    {
     "data": {
      "text/plain": [
       "<AxesSubplot:ylabel='Frequency'>"
      ]
     },
     "execution_count": 203,
     "metadata": {},
     "output_type": "execute_result"
    },
    {
     "data": {
      "image/png": "[encoded data removed]",
      "text/plain": [
       "<Figure size 720x432 with 1 Axes>"
      ]
     },
     "metadata": {
      "needs_background": "light"
     },
     "output_type": "display_data"
    }
   ],
   "source": [
    "df.plot(kind=\"hist\",y=\"price\",figsize=(10,6))"
   ]
  },
  {
   "cell_type": "code",
   "execution_count": 204,
   "id": "eaaa79ae",
   "metadata": {},
   "outputs": [
    {
     "data": {
      "text/plain": [
       "<AxesSubplot:ylabel='Frequency'>"
      ]
     },
     "execution_count": 204,
     "metadata": {},
     "output_type": "execute_result"
    },
    {
     "data": {
      "image/png": "[encoded data removed]",
      "text/plain": [
       "<Figure size 432x288 with 1 Axes>"
      ]
     },
     "metadata": {
      "needs_background": "light"
     },
     "output_type": "display_data"
    }
   ],
   "source": [
    "df.plot(kind=\"hist\",y=[\"latitude\",\"longitude\"])"
   ]
  },
  {
   "cell_type": "code",
   "execution_count": 205,
   "id": "4517e3bc",
   "metadata": {},
   "outputs": [
    {
     "name": "stderr",
     "output_type": "stream",
     "text": [
      "C:\\Users\\ACER\\anaconda3\\lib\\site-packages\\seaborn\\distributions.py:2619: FutureWarning: `distplot` is a deprecated function and will be removed in a future version. Please adapt your code to use either `displot` (a figure-level function with similar flexibility) or `histplot` (an axes-level function for histograms).\n",
      "  warnings.warn(msg, FutureWarning)\n"
     ]
    },
    {
     "data": {
      "text/plain": [
       "<AxesSubplot:xlabel='price', ylabel='Density'>"
      ]
     },
     "execution_count": 205,
     "metadata": {},
     "output_type": "execute_result"
    },
    {
     "data": {
      "image/png": "[encoded data removed]",
      "text/plain": [
       "<Figure size 432x288 with 1 Axes>"
      ]
     },
     "metadata": {
      "needs_background": "light"
     },
     "output_type": "display_data"
    }
   ],
   "source": [
    "import seaborn as sns \n",
    "sns.distplot(df[\"price\"])"
   ]
  },
  {
   "cell_type": "code",
   "execution_count": 206,
   "id": "4123d529",
   "metadata": {},
   "outputs": [
    {
     "name": "stdout",
     "output_type": "stream",
     "text": [
      "10.92556597597856\n",
      "383.3133378494485\n"
     ]
    }
   ],
   "source": [
    "# to determine skewnness and kurtosis of density plot\n",
    "print(df[\"price\"].skew())\n",
    "print(df[\"price\"].kurt())"
   ]
  },
  {
   "cell_type": "code",
   "execution_count": 253,
   "id": "6b3090fe",
   "metadata": {},
   "outputs": [
    {
     "data": {
      "text/plain": [
       "<AxesSubplot:>"
      ]
     },
     "execution_count": 253,
     "metadata": {},
     "output_type": "execute_result"
    },
    {
     "data": {
      "image/png": "[encoded data removed]",
      "text/plain": [
       "<Figure size 432x288 with 1 Axes>"
      ]
     },
     "metadata": {
      "needs_background": "light"
     },
     "output_type": "display_data"
    }
   ],
   "source": [
    "df[\"price\"].plot(kind = \"area\")"
   ]
  },
  {
   "cell_type": "code",
   "execution_count": 254,
   "id": "1bfe5299",
   "metadata": {},
   "outputs": [
    {
     "data": {
      "text/plain": [
       "<AxesSubplot:>"
      ]
     },
     "execution_count": 254,
     "metadata": {},
     "output_type": "execute_result"
    },
    {
     "data": {
      "image/png": "[encoded data removed]",
      "text/plain": [
       "<Figure size 432x288 with 1 Axes>"
      ]
     },
     "metadata": {
      "needs_background": "light"
     },
     "output_type": "display_data"
    }
   ],
   "source": [
    "df[\"price_for_per_metre\"].plot(kind=\"area\")"
   ]
  },
  {
   "cell_type": "markdown",
   "id": "ed0b705c",
   "metadata": {},
   "source": [
    "# Add new column to analyze price for per house due to its metrics "
   ]
  },
  {
   "cell_type": "code",
   "execution_count": 207,
   "id": "dc3d3765",
   "metadata": {},
   "outputs": [],
   "source": [
    "df[\"Sahə\"] = df[\"Sahə\"].str.replace(\"m²\",\"\")\n",
    "df[\"Sahə\"] = df[\"Sahə\"].str.replace(\"м²\",\"\")\n",
    "df[\"Sahə\"]=df[\"Sahə\"].apply(lambda x:float(x))"
   ]
  },
  {
   "cell_type": "code",
   "execution_count": 208,
   "id": "61907766",
   "metadata": {},
   "outputs": [
    {
     "data": {
      "text/plain": [
       "0        2222.222222\n",
       "1        1154.716981\n",
       "2        1489.565217\n",
       "3        1034.883721\n",
       "4        1383.076923\n",
       "            ...     \n",
       "69310    2500.000000\n",
       "69311    2602.941176\n",
       "69312     638.888889\n",
       "69313    1000.000000\n",
       "69314     902.439024\n",
       "Name: price_for_per_metre, Length: 69315, dtype: float64"
      ]
     },
     "execution_count": 208,
     "metadata": {},
     "output_type": "execute_result"
    }
   ],
   "source": [
    "df[\"price_for_per_metre\"] = df[\"price\"]/df[\"Sahə\"]\n",
    "df[\"price_for_per_metre\"]"
   ]
  },
  {
   "cell_type": "code",
   "execution_count": 209,
   "id": "0a9957d4",
   "metadata": {},
   "outputs": [
    {
     "data": {
      "text/plain": [
       "Index(['Unnamed: 0', '_id', 'url', 'crawl_date', 'title', 'price',\n",
       "       'price_currency', 'poster', 'poster_type', 'Ünvan', 'description',\n",
       "       'Elanın nömrəsi', 'Yeniləndi', 'Kateqoriya', 'Mərtəbə', 'Sahə',\n",
       "       'Otaq sayı', 'Kupça', 'İpoteka', 'locations', 'latitude', 'longitude',\n",
       "       'image_link', 'seher', 'price_for_per_metre'],\n",
       "      dtype='object')"
      ]
     },
     "execution_count": 209,
     "metadata": {},
     "output_type": "execute_result"
    }
   ],
   "source": [
    "df.columns"
   ]
  },
  {
   "cell_type": "markdown",
   "id": "9de78830",
   "metadata": {},
   "source": [
    "# Remove unnamed column from dataset"
   ]
  },
  {
   "cell_type": "code",
   "execution_count": 210,
   "id": "b29ed5b4",
   "metadata": {},
   "outputs": [
    {
     "data": {
      "text/html": [
       "<div>\n",
       "<style scoped>\n",
       "    .dataframe tbody tr th:only-of-type {\n",
       "        vertical-align: middle;\n",
       "    }\n",
       "\n",
       "    .dataframe tbody tr th {\n",
       "        vertical-align: top;\n",
       "    }\n",
       "\n",
       "    .dataframe thead th {\n",
       "        text-align: right;\n",
       "    }\n",
       "</style>\n",
       "<table border=\"1\" class=\"dataframe\">\n",
       "  <thead>\n",
       "    <tr style=\"text-align: right;\">\n",
       "      <th></th>\n",
       "      <th>_id</th>\n",
       "      <th>url</th>\n",
       "      <th>crawl_date</th>\n",
       "      <th>title</th>\n",
       "      <th>price</th>\n",
       "      <th>price_currency</th>\n",
       "      <th>poster</th>\n",
       "      <th>poster_type</th>\n",
       "      <th>Ünvan</th>\n",
       "      <th>description</th>\n",
       "      <th>...</th>\n",
       "      <th>Sahə</th>\n",
       "      <th>Otaq sayı</th>\n",
       "      <th>Kupça</th>\n",
       "      <th>İpoteka</th>\n",
       "      <th>locations</th>\n",
       "      <th>latitude</th>\n",
       "      <th>longitude</th>\n",
       "      <th>image_link</th>\n",
       "      <th>seher</th>\n",
       "      <th>price_for_per_metre</th>\n",
       "    </tr>\n",
       "  </thead>\n",
       "  <tbody>\n",
       "    <tr>\n",
       "      <th>0</th>\n",
       "      <td>6</td>\n",
       "      <td>https://bina.az/items/1893097</td>\n",
       "      <td>05 Fevral 2021 18:51</td>\n",
       "      <td>Satılır 3 otaqlı yeni tikili 135 m², Gənclik m.</td>\n",
       "      <td>300000</td>\n",
       "      <td>AZN</td>\n",
       "      <td>Mubariz</td>\n",
       "      <td>vasitəçi (agent)</td>\n",
       "      <td>Bakı şəhəri, Bakıxanov  küçəsi</td>\n",
       "      <td>Təcili  Satılır...Qaz  Kupça  var..\\nRoseville...</td>\n",
       "      <td>...</td>\n",
       "      <td>135.0</td>\n",
       "      <td>3</td>\n",
       "      <td>var</td>\n",
       "      <td>yoxdur</td>\n",
       "      <td>\\nGənclik m.\\nRespublika stadionu \\nNərimanov ...</td>\n",
       "      <td>40.400420</td>\n",
       "      <td>49.851554</td>\n",
       "      <td>https://bina.azstatic.com/uploads/large/2021%2...</td>\n",
       "      <td>baki</td>\n",
       "      <td>2222.222222</td>\n",
       "    </tr>\n",
       "    <tr>\n",
       "      <th>1</th>\n",
       "      <td>22</td>\n",
       "      <td>https://bina.az/items/1885145</td>\n",
       "      <td>05 Fevral 2021 18:51</td>\n",
       "      <td>Satılır 3 otaqlı yeni tikili 132.5 m², Nəriman...</td>\n",
       "      <td>153000</td>\n",
       "      <td>AZN</td>\n",
       "      <td>Самир Ахмедов</td>\n",
       "      <td>vasitəçi (agent)</td>\n",
       "      <td>Bakı şəhəri, ул.Табриза 21-23</td>\n",
       "      <td>Срочно.В Наримановском р-не недалеко от 162 шк...</td>\n",
       "      <td>...</td>\n",
       "      <td>132.5</td>\n",
       "      <td>3</td>\n",
       "      <td>yoxdur</td>\n",
       "      <td>yoxdur</td>\n",
       "      <td>\\nŞərq bazarı \\nNərimanov r.\\n\\n</td>\n",
       "      <td>40.389663</td>\n",
       "      <td>49.853717</td>\n",
       "      <td>https://bina.azstatic.com/uploads/large/2021%2...</td>\n",
       "      <td>baki</td>\n",
       "      <td>1154.716981</td>\n",
       "    </tr>\n",
       "    <tr>\n",
       "      <th>2</th>\n",
       "      <td>72</td>\n",
       "      <td>https://bina.az/items/1893207</td>\n",
       "      <td>05 Fevral 2021 18:50</td>\n",
       "      <td>Satılır 2 otaqlı yeni tikili 115 m², Bayıl q.</td>\n",
       "      <td>171300</td>\n",
       "      <td>AZN</td>\n",
       "      <td>Fikrət</td>\n",
       "      <td>vasitəçi (agent)</td>\n",
       "      <td>Bakı şəhəri, Q.Abbasov küçəsi</td>\n",
       "      <td>Səbail rayonu ,Bayıl qəsəbəsi Q.Abbasov küçəsi...</td>\n",
       "      <td>...</td>\n",
       "      <td>115.0</td>\n",
       "      <td>2</td>\n",
       "      <td>yoxdur</td>\n",
       "      <td>yoxdur</td>\n",
       "      <td>\\nSəbail r.\\nBayıl q.\\n\\n</td>\n",
       "      <td>40.347625</td>\n",
       "      <td>49.836685</td>\n",
       "      <td>https://bina.azstatic.com/uploads/large/2021%2...</td>\n",
       "      <td>baki</td>\n",
       "      <td>1489.565217</td>\n",
       "    </tr>\n",
       "    <tr>\n",
       "      <th>3</th>\n",
       "      <td>76</td>\n",
       "      <td>https://bina.az/items/1893213</td>\n",
       "      <td>05 Fevral 2021 18:50</td>\n",
       "      <td>Satılır 2 otaqlı yeni tikili 43 m², Masazır q.</td>\n",
       "      <td>44500</td>\n",
       "      <td>AZN</td>\n",
       "      <td>QASIM</td>\n",
       "      <td>vasitəçi (agent)</td>\n",
       "      <td>Bakı şəhəri, İstiqlaliyyət 14</td>\n",
       "      <td>Masazır qəsəbəsi, Yeni Bakı yaşayış kompleksi ...</td>\n",
       "      <td>...</td>\n",
       "      <td>43.0</td>\n",
       "      <td>2</td>\n",
       "      <td>var</td>\n",
       "      <td>yoxdur</td>\n",
       "      <td>\\nAbşeron r.\\nMasazır q.\\n\\n</td>\n",
       "      <td>40.492294</td>\n",
       "      <td>49.747231</td>\n",
       "      <td>https://bina.azstatic.com/uploads/large/2021%2...</td>\n",
       "      <td>baki</td>\n",
       "      <td>1034.883721</td>\n",
       "    </tr>\n",
       "    <tr>\n",
       "      <th>4</th>\n",
       "      <td>86</td>\n",
       "      <td>https://bina.az/items/1893237</td>\n",
       "      <td>05 Fevral 2021 18:49</td>\n",
       "      <td>Satılır 2 otaqlı yeni tikili 65 m², Memar Əcəm...</td>\n",
       "      <td>89900</td>\n",
       "      <td>AZN</td>\n",
       "      <td>Heydər bəy</td>\n",
       "      <td>vasitəçi (agent)</td>\n",
       "      <td>Bakı şəhəri, Mir Cəlal küç.</td>\n",
       "      <td>Tecili satilir !!\\n4 cu mikrorayonda, Elmed kl...</td>\n",
       "      <td>...</td>\n",
       "      <td>65.0</td>\n",
       "      <td>2</td>\n",
       "      <td>var</td>\n",
       "      <td>yoxdur</td>\n",
       "      <td>\\nMemar Əcəmi m.\\nNəsimi r.\\n4-cü mikrorayon q...</td>\n",
       "      <td>40.417271</td>\n",
       "      <td>49.810311</td>\n",
       "      <td>https://bina.azstatic.com/uploads/large/2021%2...</td>\n",
       "      <td>baki</td>\n",
       "      <td>1383.076923</td>\n",
       "    </tr>\n",
       "    <tr>\n",
       "      <th>...</th>\n",
       "      <td>...</td>\n",
       "      <td>...</td>\n",
       "      <td>...</td>\n",
       "      <td>...</td>\n",
       "      <td>...</td>\n",
       "      <td>...</td>\n",
       "      <td>...</td>\n",
       "      <td>...</td>\n",
       "      <td>...</td>\n",
       "      <td>...</td>\n",
       "      <td>...</td>\n",
       "      <td>...</td>\n",
       "      <td>...</td>\n",
       "      <td>...</td>\n",
       "      <td>...</td>\n",
       "      <td>...</td>\n",
       "      <td>...</td>\n",
       "      <td>...</td>\n",
       "      <td>...</td>\n",
       "      <td>...</td>\n",
       "      <td>...</td>\n",
       "    </tr>\n",
       "    <tr>\n",
       "      <th>69310</th>\n",
       "      <td>147185</td>\n",
       "      <td>https://bina.az/items/2211371</td>\n",
       "      <td>08 Iyul 2021 11:04</td>\n",
       "      <td>Satılır 4 otaqlı yeni tikili 220 m², Nəsimi r.</td>\n",
       "      <td>550000</td>\n",
       "      <td>AZN</td>\n",
       "      <td>Tofiq Mamedov</td>\n",
       "      <td>vasitəçi (agent)</td>\n",
       "      <td>Bakı şəhəri, Rəşid Behbudov küçəsi</td>\n",
       "      <td>TƏCİLİ SATILIR!\\nŞəhərin ən prestij yerdə - Rə...</td>\n",
       "      <td>...</td>\n",
       "      <td>220.0</td>\n",
       "      <td>4</td>\n",
       "      <td>var</td>\n",
       "      <td>yoxdur</td>\n",
       "      <td>\\nAzərbaycan Dillər Universiteti \\nBakı Slavya...</td>\n",
       "      <td>40.384744</td>\n",
       "      <td>49.841745</td>\n",
       "      <td>https://bina.azstatic.com/uploads/large/2021%2...</td>\n",
       "      <td>baki</td>\n",
       "      <td>2500.000000</td>\n",
       "    </tr>\n",
       "    <tr>\n",
       "      <th>69311</th>\n",
       "      <td>147186</td>\n",
       "      <td>https://bina.az/items/2190603</td>\n",
       "      <td>08 Iyul 2021 11:04</td>\n",
       "      <td>Satılır 2 otaqlı yeni tikili 68 m², Nəriman Nə...</td>\n",
       "      <td>177000</td>\n",
       "      <td>AZN</td>\n",
       "      <td>Asef Nagiyev</td>\n",
       "      <td>vasitəçi (agent)</td>\n",
       "      <td>Bakı şəhəri, Faiq Yusifov küç.</td>\n",
       "      <td>COX TECILI DEYERINEN UCUZ QIYMETE SATILIR.MOHT...</td>\n",
       "      <td>...</td>\n",
       "      <td>68.0</td>\n",
       "      <td>2</td>\n",
       "      <td>yoxdur</td>\n",
       "      <td>yoxdur</td>\n",
       "      <td>\\nNəriman Nərimanov m.\\nNəriman Nərimanov park...</td>\n",
       "      <td>40.402843</td>\n",
       "      <td>49.870677</td>\n",
       "      <td>https://bina.azstatic.com/uploads/large/2021%2...</td>\n",
       "      <td>baki</td>\n",
       "      <td>2602.941176</td>\n",
       "    </tr>\n",
       "    <tr>\n",
       "      <th>69312</th>\n",
       "      <td>147187</td>\n",
       "      <td>https://bina.az/items/2211283</td>\n",
       "      <td>08 Iyul 2021 11:05</td>\n",
       "      <td>Satılır 2 otaqlı yeni tikili 72 m², Xırdalan</td>\n",
       "      <td>46000</td>\n",
       "      <td>AZN</td>\n",
       "      <td>İlkin</td>\n",
       "      <td>vasitəçi (agent)</td>\n",
       "      <td>Xırdalan şəhəri, Heydər Əliyev prospekti</td>\n",
       "      <td>Menzili Alıb Kiraye Vermey Üçün ideal variyant...</td>\n",
       "      <td>...</td>\n",
       "      <td>72.0</td>\n",
       "      <td>2</td>\n",
       "      <td>yoxdur</td>\n",
       "      <td>yoxdur</td>\n",
       "      <td>\\nXırdalan\\n\\n</td>\n",
       "      <td>40.463913</td>\n",
       "      <td>49.723795</td>\n",
       "      <td>https://bina.azstatic.com/uploads/large/2021%2...</td>\n",
       "      <td>xirdalan</td>\n",
       "      <td>638.888889</td>\n",
       "    </tr>\n",
       "    <tr>\n",
       "      <th>69313</th>\n",
       "      <td>147189</td>\n",
       "      <td>https://bina.az/items/2211299</td>\n",
       "      <td>08 Iyul 2021 11:05</td>\n",
       "      <td>Satılır 3 otaqlı yeni tikili 109 m², Xırdalan</td>\n",
       "      <td>109000</td>\n",
       "      <td>AZN</td>\n",
       "      <td>İlkin</td>\n",
       "      <td>vasitəçi (agent)</td>\n",
       "      <td>Xırdalan şəhəri, Heydər Əliyev prospekti</td>\n",
       "      <td>Xırdalan Şeheri Heyder Eliyev P.R..\\nBazar Sto...</td>\n",
       "      <td>...</td>\n",
       "      <td>109.0</td>\n",
       "      <td>3</td>\n",
       "      <td>yoxdur</td>\n",
       "      <td>yoxdur</td>\n",
       "      <td>\\nXırdalan\\n\\n</td>\n",
       "      <td>40.462931</td>\n",
       "      <td>49.725277</td>\n",
       "      <td>https://bina.azstatic.com/uploads/large/2021%2...</td>\n",
       "      <td>xirdalan</td>\n",
       "      <td>1000.000000</td>\n",
       "    </tr>\n",
       "    <tr>\n",
       "      <th>69314</th>\n",
       "      <td>147190</td>\n",
       "      <td>https://bina.az/items/2211314</td>\n",
       "      <td>08 Iyul 2021 11:05</td>\n",
       "      <td>Satılır 2 otaqlı yeni tikili 82 m², Xırdalan</td>\n",
       "      <td>74000</td>\n",
       "      <td>AZN</td>\n",
       "      <td>İlkin</td>\n",
       "      <td>vasitəçi (agent)</td>\n",
       "      <td>Xırdalan şəhəri, Heydər Əliyev prospekti</td>\n",
       "      <td>Xırdalan şeheri Heyder Eliyev P.R..\\nXırdalanı...</td>\n",
       "      <td>...</td>\n",
       "      <td>82.0</td>\n",
       "      <td>2</td>\n",
       "      <td>yoxdur</td>\n",
       "      <td>yoxdur</td>\n",
       "      <td>\\nXırdalan\\n\\n</td>\n",
       "      <td>40.453903</td>\n",
       "      <td>49.739916</td>\n",
       "      <td>https://bina.azstatic.com/uploads/large/2021%2...</td>\n",
       "      <td>xirdalan</td>\n",
       "      <td>902.439024</td>\n",
       "    </tr>\n",
       "  </tbody>\n",
       "</table>\n",
       "<p>69315 rows × 24 columns</p>\n",
       "</div>"
      ],
      "text/plain": [
       "          _id                            url            crawl_date  \\\n",
       "0           6  https://bina.az/items/1893097  05 Fevral 2021 18:51   \n",
       "1          22  https://bina.az/items/1885145  05 Fevral 2021 18:51   \n",
       "2          72  https://bina.az/items/1893207  05 Fevral 2021 18:50   \n",
       "3          76  https://bina.az/items/1893213  05 Fevral 2021 18:50   \n",
       "4          86  https://bina.az/items/1893237  05 Fevral 2021 18:49   \n",
       "...       ...                            ...                   ...   \n",
       "69310  147185  https://bina.az/items/2211371    08 Iyul 2021 11:04   \n",
       "69311  147186  https://bina.az/items/2190603    08 Iyul 2021 11:04   \n",
       "69312  147187  https://bina.az/items/2211283    08 Iyul 2021 11:05   \n",
       "69313  147189  https://bina.az/items/2211299    08 Iyul 2021 11:05   \n",
       "69314  147190  https://bina.az/items/2211314    08 Iyul 2021 11:05   \n",
       "\n",
       "                                                   title   price  \\\n",
       "0        Satılır 3 otaqlı yeni tikili 135 m², Gənclik m.  300000   \n",
       "1      Satılır 3 otaqlı yeni tikili 132.5 m², Nəriman...  153000   \n",
       "2          Satılır 2 otaqlı yeni tikili 115 m², Bayıl q.  171300   \n",
       "3         Satılır 2 otaqlı yeni tikili 43 m², Masazır q.   44500   \n",
       "4      Satılır 2 otaqlı yeni tikili 65 m², Memar Əcəm...   89900   \n",
       "...                                                  ...     ...   \n",
       "69310     Satılır 4 otaqlı yeni tikili 220 m², Nəsimi r.  550000   \n",
       "69311  Satılır 2 otaqlı yeni tikili 68 m², Nəriman Nə...  177000   \n",
       "69312       Satılır 2 otaqlı yeni tikili 72 m², Xırdalan   46000   \n",
       "69313      Satılır 3 otaqlı yeni tikili 109 m², Xırdalan  109000   \n",
       "69314       Satılır 2 otaqlı yeni tikili 82 m², Xırdalan   74000   \n",
       "\n",
       "      price_currency         poster       poster_type  \\\n",
       "0                AZN        Mubariz  vasitəçi (agent)   \n",
       "1                AZN  Самир Ахмедов  vasitəçi (agent)   \n",
       "2                AZN         Fikrət  vasitəçi (agent)   \n",
       "3                AZN          QASIM  vasitəçi (agent)   \n",
       "4                AZN     Heydər bəy  vasitəçi (agent)   \n",
       "...              ...            ...               ...   \n",
       "69310            AZN  Tofiq Mamedov  vasitəçi (agent)   \n",
       "69311            AZN   Asef Nagiyev  vasitəçi (agent)   \n",
       "69312            AZN          İlkin  vasitəçi (agent)   \n",
       "69313            AZN          İlkin  vasitəçi (agent)   \n",
       "69314            AZN          İlkin  vasitəçi (agent)   \n",
       "\n",
       "                                           Ünvan  \\\n",
       "0               Bakı şəhəri, Bakıxanov  küçəsi     \n",
       "1                  Bakı şəhəri, ул.Табриза 21-23   \n",
       "2                  Bakı şəhəri, Q.Abbasov küçəsi   \n",
       "3                  Bakı şəhəri, İstiqlaliyyət 14   \n",
       "4                    Bakı şəhəri, Mir Cəlal küç.   \n",
       "...                                          ...   \n",
       "69310         Bakı şəhəri, Rəşid Behbudov küçəsi   \n",
       "69311             Bakı şəhəri, Faiq Yusifov küç.   \n",
       "69312   Xırdalan şəhəri, Heydər Əliyev prospekti   \n",
       "69313   Xırdalan şəhəri, Heydər Əliyev prospekti   \n",
       "69314   Xırdalan şəhəri, Heydər Əliyev prospekti   \n",
       "\n",
       "                                             description  ...   Sahə  \\\n",
       "0      Təcili  Satılır...Qaz  Kupça  var..\\nRoseville...  ...  135.0   \n",
       "1      Срочно.В Наримановском р-не недалеко от 162 шк...  ...  132.5   \n",
       "2      Səbail rayonu ,Bayıl qəsəbəsi Q.Abbasov küçəsi...  ...  115.0   \n",
       "3      Masazır qəsəbəsi, Yeni Bakı yaşayış kompleksi ...  ...   43.0   \n",
       "4      Tecili satilir !!\\n4 cu mikrorayonda, Elmed kl...  ...   65.0   \n",
       "...                                                  ...  ...    ...   \n",
       "69310  TƏCİLİ SATILIR!\\nŞəhərin ən prestij yerdə - Rə...  ...  220.0   \n",
       "69311  COX TECILI DEYERINEN UCUZ QIYMETE SATILIR.MOHT...  ...   68.0   \n",
       "69312  Menzili Alıb Kiraye Vermey Üçün ideal variyant...  ...   72.0   \n",
       "69313  Xırdalan Şeheri Heyder Eliyev P.R..\\nBazar Sto...  ...  109.0   \n",
       "69314  Xırdalan şeheri Heyder Eliyev P.R..\\nXırdalanı...  ...   82.0   \n",
       "\n",
       "      Otaq sayı   Kupça İpoteka  \\\n",
       "0             3     var  yoxdur   \n",
       "1             3  yoxdur  yoxdur   \n",
       "2             2  yoxdur  yoxdur   \n",
       "3             2     var  yoxdur   \n",
       "4             2     var  yoxdur   \n",
       "...         ...     ...     ...   \n",
       "69310         4     var  yoxdur   \n",
       "69311         2  yoxdur  yoxdur   \n",
       "69312         2  yoxdur  yoxdur   \n",
       "69313         3  yoxdur  yoxdur   \n",
       "69314         2  yoxdur  yoxdur   \n",
       "\n",
       "                                               locations   latitude  \\\n",
       "0      \\nGənclik m.\\nRespublika stadionu \\nNərimanov ...  40.400420   \n",
       "1                       \\nŞərq bazarı \\nNərimanov r.\\n\\n  40.389663   \n",
       "2                              \\nSəbail r.\\nBayıl q.\\n\\n  40.347625   \n",
       "3                           \\nAbşeron r.\\nMasazır q.\\n\\n  40.492294   \n",
       "4      \\nMemar Əcəmi m.\\nNəsimi r.\\n4-cü mikrorayon q...  40.417271   \n",
       "...                                                  ...        ...   \n",
       "69310  \\nAzərbaycan Dillər Universiteti \\nBakı Slavya...  40.384744   \n",
       "69311  \\nNəriman Nərimanov m.\\nNəriman Nərimanov park...  40.402843   \n",
       "69312                                     \\nXırdalan\\n\\n  40.463913   \n",
       "69313                                     \\nXırdalan\\n\\n  40.462931   \n",
       "69314                                     \\nXırdalan\\n\\n  40.453903   \n",
       "\n",
       "       longitude                                         image_link     seher  \\\n",
       "0      49.851554  https://bina.azstatic.com/uploads/large/2021%2...      baki   \n",
       "1      49.853717  https://bina.azstatic.com/uploads/large/2021%2...      baki   \n",
       "2      49.836685  https://bina.azstatic.com/uploads/large/2021%2...      baki   \n",
       "3      49.747231  https://bina.azstatic.com/uploads/large/2021%2...      baki   \n",
       "4      49.810311  https://bina.azstatic.com/uploads/large/2021%2...      baki   \n",
       "...          ...                                                ...       ...   \n",
       "69310  49.841745  https://bina.azstatic.com/uploads/large/2021%2...      baki   \n",
       "69311  49.870677  https://bina.azstatic.com/uploads/large/2021%2...      baki   \n",
       "69312  49.723795  https://bina.azstatic.com/uploads/large/2021%2...  xirdalan   \n",
       "69313  49.725277  https://bina.azstatic.com/uploads/large/2021%2...  xirdalan   \n",
       "69314  49.739916  https://bina.azstatic.com/uploads/large/2021%2...  xirdalan   \n",
       "\n",
       "       price_for_per_metre  \n",
       "0              2222.222222  \n",
       "1              1154.716981  \n",
       "2              1489.565217  \n",
       "3              1034.883721  \n",
       "4              1383.076923  \n",
       "...                    ...  \n",
       "69310          2500.000000  \n",
       "69311          2602.941176  \n",
       "69312           638.888889  \n",
       "69313          1000.000000  \n",
       "69314           902.439024  \n",
       "\n",
       "[69315 rows x 24 columns]"
      ]
     },
     "execution_count": 210,
     "metadata": {},
     "output_type": "execute_result"
    }
   ],
   "source": [
    "df = df.drop(\"Unnamed: 0\",axis=1)\n",
    "df"
   ]
  },
  {
   "cell_type": "markdown",
   "id": "80089772",
   "metadata": {},
   "source": [
    "# Handling with missing values "
   ]
  },
  {
   "cell_type": "code",
   "execution_count": 211,
   "id": "7e9e28ab",
   "metadata": {},
   "outputs": [
    {
     "data": {
      "text/plain": [
       "['description', 'Kupça']"
      ]
     },
     "execution_count": 211,
     "metadata": {},
     "output_type": "execute_result"
    }
   ],
   "source": [
    "# check missing values again \n",
    "missing_columns = [col for col in df.columns if df[col].isnull().sum() > 0]\n",
    "missing_columns "
   ]
  },
  {
   "cell_type": "raw",
   "id": "2c865a12",
   "metadata": {},
   "source": [
    "# ['description', 'Kupça'] after checking dtypes of these columns, both of them are objects and it means that we must deal with specific ways to handle categorical missing values  "
   ]
  },
  {
   "cell_type": "code",
   "execution_count": 212,
   "id": "6069b7ee",
   "metadata": {},
   "outputs": [],
   "source": [
    "#df[\"Kupça\"] = df[\"Kupça\"].fillna('Missing') # one way to write missing word \n",
    "df[\"Kupça\"] = df[\"Kupça\"].fillna('var')  # here I fill missing data with most frquent one "
   ]
  },
  {
   "cell_type": "code",
   "execution_count": 213,
   "id": "7c46fc08",
   "metadata": {},
   "outputs": [
    {
     "data": {
      "text/plain": [
       "var       50321\n",
       "yoxdur    18994\n",
       "Name: Kupça, dtype: int64"
      ]
     },
     "execution_count": 213,
     "metadata": {},
     "output_type": "execute_result"
    }
   ],
   "source": [
    "df[\"Kupça\"].value_counts()"
   ]
  },
  {
   "cell_type": "code",
   "execution_count": null,
   "id": "1fe8dbaf",
   "metadata": {},
   "outputs": [],
   "source": []
  },
  {
   "cell_type": "markdown",
   "id": "218f6682",
   "metadata": {},
   "source": [
    "# Deal with specifically description column"
   ]
  },
  {
   "cell_type": "code",
   "execution_count": 214,
   "id": "6598be2e",
   "metadata": {},
   "outputs": [],
   "source": [
    "import nltk\n",
    "import re\n",
    "import string"
   ]
  },
  {
   "cell_type": "raw",
   "id": "8226b8d0",
   "metadata": {},
   "source": [
    "#function to clear column from some punctuations\n",
    "def clean_text(text):\n",
    "    '''Make text lowercase, remove text in square brackets,remove links,remove punctuation\n",
    "    and remove words containing numbers.'''\n",
    "    text = text.lower()\n",
    "    text = re.sub('\\[.*?\\]', '', text)\n",
    "    text = re.sub('https?://\\S+|www\\.\\S+', '', text)\n",
    "    text = re.sub('<.*?>+', '', text)\n",
    "    text = re.sub('[%s]' % re.escape(string.punctuation), '', text)\n",
    "    text = re.sub('\\n', '', text)\n",
    "    text = re.sub('\\w*\\d\\w*', '', text)\n",
    "    return text"
   ]
  },
  {
   "cell_type": "raw",
   "id": "6f88bebb",
   "metadata": {},
   "source": [
    "df['description'] = df['description'].apply(lambda x: clean_text(x))"
   ]
  },
  {
   "cell_type": "code",
   "execution_count": 215,
   "id": "28c0d09d",
   "metadata": {},
   "outputs": [
    {
     "data": {
      "image/png": "[encoded data removed]",
      "text/plain": [
       "<Figure size 720x720 with 1 Axes>"
      ]
     },
     "metadata": {
      "needs_background": "light"
     },
     "output_type": "display_data"
    }
   ],
   "source": [
    "from wordcloud import WordCloud, STOPWORDS\n",
    "word_cloud = WordCloud(\n",
    "                    background_color='white',\n",
    "                    stopwords=set(STOPWORDS),\n",
    "                    max_words=50,\n",
    "                    max_font_size=40,\n",
    "                    scale=5,\n",
    "                    random_state=1).generate(str(df['description']))\n",
    "fig = plt.figure(1, figsize=(10,10))\n",
    "plt.axis('off')\n",
    "fig.suptitle('Word Cloud in description of this dataset', fontsize=20)\n",
    "fig.subplots_adjust(top=2.3)\n",
    "plt.imshow(word_cloud)\n",
    "plt.show()"
   ]
  },
  {
   "cell_type": "code",
   "execution_count": 216,
   "id": "799fd929",
   "metadata": {},
   "outputs": [
    {
     "name": "stdout",
     "output_type": "stream",
     "text": [
      "Requirement already satisfied: wordcloud in c:\\users\\acer\\anaconda3\\lib\\site-packages (1.8.2.2)\n",
      "Requirement already satisfied: pillow in c:\\users\\acer\\anaconda3\\lib\\site-packages (from wordcloud) (8.4.0)\n",
      "Requirement already satisfied: numpy>=1.6.1 in c:\\users\\acer\\anaconda3\\lib\\site-packages (from wordcloud) (1.20.3)\n",
      "Requirement already satisfied: matplotlib in c:\\users\\acer\\anaconda3\\lib\\site-packages (from wordcloud) (3.4.3)\n",
      "Requirement already satisfied: pyparsing>=2.2.1 in c:\\users\\acer\\anaconda3\\lib\\site-packages (from matplotlib->wordcloud) (3.0.4)\n",
      "Requirement already satisfied: cycler>=0.10 in c:\\users\\acer\\anaconda3\\lib\\site-packages (from matplotlib->wordcloud) (0.10.0)\n",
      "Requirement already satisfied: kiwisolver>=1.0.1 in c:\\users\\acer\\anaconda3\\lib\\site-packages (from matplotlib->wordcloud) (1.3.1)\n",
      "Requirement already satisfied: python-dateutil>=2.7 in c:\\users\\acer\\anaconda3\\lib\\site-packages (from matplotlib->wordcloud) (2.8.2)\n",
      "Requirement already satisfied: six in c:\\users\\acer\\anaconda3\\lib\\site-packages (from cycler>=0.10->matplotlib->wordcloud) (1.16.0)\n",
      "Note: you may need to restart the kernel to use updated packages.\n"
     ]
    }
   ],
   "source": [
    "pip install wordcloud"
   ]
  },
  {
   "cell_type": "raw",
   "id": "5ead6f12",
   "metadata": {},
   "source": [
    "# we can see that most frequent word in description column are:\n",
    "\n",
    "Tecili Satılır"
   ]
  },
  {
   "cell_type": "code",
   "execution_count": 221,
   "id": "79d0ffc1",
   "metadata": {},
   "outputs": [
    {
     "data": {
      "text/plain": [
       "122"
      ]
     },
     "execution_count": 221,
     "metadata": {},
     "output_type": "execute_result"
    }
   ],
   "source": [
    "new_df[\"description\"].isnull().sum()"
   ]
  },
  {
   "cell_type": "code",
   "execution_count": 222,
   "id": "4efa3d94",
   "metadata": {},
   "outputs": [],
   "source": [
    "new_df[\"description\"] = df[\"description\"].fillna(\"Tecili Satılır\")"
   ]
  },
  {
   "cell_type": "code",
   "execution_count": 224,
   "id": "d4d306ac",
   "metadata": {},
   "outputs": [
    {
     "data": {
      "text/plain": [
       "0"
      ]
     },
     "execution_count": 224,
     "metadata": {},
     "output_type": "execute_result"
    }
   ],
   "source": [
    "new_df[\"description\"].isnull().sum()"
   ]
  },
  {
   "cell_type": "markdown",
   "id": "a8de9fd1",
   "metadata": {},
   "source": [
    "# Encoding"
   ]
  },
  {
   "cell_type": "code",
   "execution_count": 140,
   "id": "4d516555",
   "metadata": {},
   "outputs": [
    {
     "data": {
      "text/plain": [
       "vasitəçi (agent)    61318\n",
       "mülkiyyətçi          7997\n",
       "Name: poster_type, dtype: int64"
      ]
     },
     "execution_count": 140,
     "metadata": {},
     "output_type": "execute_result"
    }
   ],
   "source": [
    "df[\"poster_type\"].value_counts()"
   ]
  },
  {
   "cell_type": "code",
   "execution_count": 141,
   "id": "4b202e4b",
   "metadata": {},
   "outputs": [],
   "source": [
    "df[\"poster_type\"]=df[\"poster_type\"].astype(\"category\")\n",
    "df[\"poster_type\"]=df[\"poster_type\"].cat.codes"
   ]
  },
  {
   "cell_type": "code",
   "execution_count": 142,
   "id": "ff4c9467",
   "metadata": {},
   "outputs": [
    {
     "data": {
      "text/plain": [
       "1    61318\n",
       "0     7997\n",
       "Name: poster_type, dtype: int64"
      ]
     },
     "execution_count": 142,
     "metadata": {},
     "output_type": "execute_result"
    }
   ],
   "source": [
    "df[\"poster_type\"].value_counts()"
   ]
  },
  {
   "cell_type": "code",
   "execution_count": 143,
   "id": "e21a2a3c",
   "metadata": {},
   "outputs": [
    {
     "data": {
      "text/plain": [
       "yoxdur    59913\n",
       "var        9402\n",
       "Name: İpoteka, dtype: int64"
      ]
     },
     "execution_count": 143,
     "metadata": {},
     "output_type": "execute_result"
    }
   ],
   "source": [
    "df['İpoteka'].value_counts()"
   ]
  },
  {
   "cell_type": "code",
   "execution_count": 144,
   "id": "cd94c728",
   "metadata": {},
   "outputs": [],
   "source": [
    "df['İpoteka']=df['İpoteka'].astype(\"category\")\n",
    "df['İpoteka']=df['İpoteka'].cat.codes"
   ]
  },
  {
   "cell_type": "code",
   "execution_count": 77,
   "id": "cc2ad48c",
   "metadata": {},
   "outputs": [
    {
     "data": {
      "text/plain": [
       "1    59913\n",
       "0     9402\n",
       "Name: İpoteka, dtype: int64"
      ]
     },
     "execution_count": 77,
     "metadata": {},
     "output_type": "execute_result"
    }
   ],
   "source": [
    "df['İpoteka'].value_counts()"
   ]
  },
  {
   "cell_type": "markdown",
   "id": "e61bccce",
   "metadata": {},
   "source": [
    "# Detect outliers and remove them from dataset "
   ]
  },
  {
   "cell_type": "code",
   "execution_count": 81,
   "id": "e68cda91",
   "metadata": {},
   "outputs": [
    {
     "data": {
      "text/plain": [
       "Index(['_id', 'url', 'crawl_date', 'title', 'price', 'price_currency',\n",
       "       'poster', 'poster_type', 'Ünvan', 'description', 'Elanın nömrəsi',\n",
       "       'Yeniləndi', 'Kateqoriya', 'Mərtəbə', 'Sahə', 'Otaq sayı', 'Kupça',\n",
       "       'İpoteka', 'locations', 'latitude', 'longitude', 'image_link', 'seher',\n",
       "       'price_for_per_metre'],\n",
       "      dtype='object')"
      ]
     },
     "execution_count": 81,
     "metadata": {},
     "output_type": "execute_result"
    }
   ],
   "source": [
    "df.columns"
   ]
  },
  {
   "cell_type": "code",
   "execution_count": null,
   "id": "7f6bbb65",
   "metadata": {},
   "outputs": [],
   "source": [
    "# use z_score method "
   ]
  },
  {
   "cell_type": "code",
   "execution_count": 82,
   "id": "9a94ef19",
   "metadata": {},
   "outputs": [],
   "source": [
    "z_score = (df['price_for_per_metre']-df['price_for_per_metre'].mean())/df['price_for_per_metre'].std()"
   ]
  },
  {
   "cell_type": "code",
   "execution_count": 83,
   "id": "b8178acf",
   "metadata": {},
   "outputs": [
    {
     "data": {
      "text/plain": [
       "0        0.245073\n",
       "1       -0.198298\n",
       "2       -0.059224\n",
       "3       -0.248069\n",
       "4       -0.103453\n",
       "           ...   \n",
       "69310    0.360444\n",
       "69311    0.403199\n",
       "69312   -0.412539\n",
       "69313   -0.262558\n",
       "69314   -0.303078\n",
       "Name: price_for_per_metre, Length: 69315, dtype: float64"
      ]
     },
     "execution_count": 83,
     "metadata": {},
     "output_type": "execute_result"
    }
   ],
   "source": [
    "z_score"
   ]
  },
  {
   "cell_type": "code",
   "execution_count": 85,
   "id": "fb6ee964",
   "metadata": {},
   "outputs": [
    {
     "data": {
      "text/plain": [
       "(69315, 24)"
      ]
     },
     "execution_count": 85,
     "metadata": {},
     "output_type": "execute_result"
    }
   ],
   "source": [
    "df.shape"
   ]
  },
  {
   "cell_type": "code",
   "execution_count": 92,
   "id": "d345ea51",
   "metadata": {},
   "outputs": [],
   "source": [
    "new_df = df.drop(df.index[abs(z_score)>3])"
   ]
  },
  {
   "cell_type": "code",
   "execution_count": 93,
   "id": "74911582",
   "metadata": {},
   "outputs": [
    {
     "data": {
      "text/plain": [
       "(69181, 24)"
      ]
     },
     "execution_count": 93,
     "metadata": {},
     "output_type": "execute_result"
    }
   ],
   "source": [
    "new_df.shape"
   ]
  },
  {
   "cell_type": "code",
   "execution_count": null,
   "id": "fb9af722",
   "metadata": {},
   "outputs": [],
   "source": []
  },
  {
   "cell_type": "code",
   "execution_count": 145,
   "id": "5365c2a5",
   "metadata": {},
   "outputs": [],
   "source": []
  },
  {
   "cell_type": "code",
   "execution_count": null,
   "id": "65d52836",
   "metadata": {},
   "outputs": [],
   "source": []
  },
  {
   "cell_type": "code",
   "execution_count": null,
   "id": "77d8d980",
   "metadata": {},
   "outputs": [],
   "source": []
  },
  {
   "cell_type": "code",
   "execution_count": null,
   "id": "a4377789",
   "metadata": {},
   "outputs": [],
   "source": []
  },
  {
   "cell_type": "code",
   "execution_count": null,
   "id": "e7845b1f",
   "metadata": {},
   "outputs": [],
   "source": []
  },
  {
   "cell_type": "markdown",
   "id": "f788eb65",
   "metadata": {},
   "source": [
    "# Scaling and normalizing"
   ]
  },
  {
   "cell_type": "code",
   "execution_count": null,
   "id": "ed99c953",
   "metadata": {},
   "outputs": [],
   "source": [
    "# in scaling, you're changing the range of your data, while\n",
    "# in normalization, you're changing the shape of the distribution of your data."
   ]
  },
  {
   "cell_type": "code",
   "execution_count": 226,
   "id": "191a7c2c",
   "metadata": {},
   "outputs": [
    {
     "name": "stdout",
     "output_type": "stream",
     "text": [
      "Collecting mlxtendNote: you may need to restart the kernel to use updated packages.\n",
      "  Downloading mlxtend-0.20.0-py2.py3-none-any.whl (1.3 MB)\n",
      "Requirement already satisfied: numpy>=1.16.2 in c:\\users\\acer\\anaconda3\\lib\\site-packages (from mlxtend) (1.20.3)\n",
      "Requirement already satisfied: matplotlib>=3.0.0 in c:\\users\\acer\\anaconda3\\lib\\site-packages (from mlxtend) (3.4.3)\n",
      "Requirement already satisfied: setuptools in c:\\users\\acer\\anaconda3\\lib\\site-packages (from mlxtend) (58.0.4)\n",
      "Requirement already satisfied: joblib>=0.13.2 in c:\\users\\acer\\anaconda3\\lib\\site-packages (from mlxtend) (1.1.0)\n",
      "Requirement already satisfied: scipy>=1.2.1 in c:\\users\\acer\\anaconda3\\lib\\site-packages (from mlxtend) (1.7.1)\n",
      "Collecting scikit-learn>=1.0.2\n",
      "  Downloading scikit_learn-1.1.1-cp39-cp39-win_amd64.whl (7.4 MB)\n",
      "Requirement already satisfied: pandas>=0.24.2 in c:\\users\\acer\\anaconda3\\lib\\site-packages (from mlxtend) (1.3.4)\n",
      "Requirement already satisfied: kiwisolver>=1.0.1 in c:\\users\\acer\\anaconda3\\lib\\site-packages (from matplotlib>=3.0.0->mlxtend) (1.3.1)\n",
      "Requirement already satisfied: python-dateutil>=2.7 in c:\\users\\acer\\anaconda3\\lib\\site-packages (from matplotlib>=3.0.0->mlxtend) (2.8.2)\n",
      "Requirement already satisfied: pillow>=6.2.0 in c:\\users\\acer\\anaconda3\\lib\\site-packages (from matplotlib>=3.0.0->mlxtend) (8.4.0)\n",
      "Requirement already satisfied: cycler>=0.10 in c:\\users\\acer\\anaconda3\\lib\\site-packages (from matplotlib>=3.0.0->mlxtend) (0.10.0)\n",
      "Requirement already satisfied: pyparsing>=2.2.1 in c:\\users\\acer\\anaconda3\\lib\\site-packages (from matplotlib>=3.0.0->mlxtend) (3.0.4)\n",
      "Requirement already satisfied: six in c:\\users\\acer\\anaconda3\\lib\\site-packages (from cycler>=0.10->matplotlib>=3.0.0->mlxtend) (1.16.0)\n",
      "Requirement already satisfied: pytz>=2017.3 in c:\\users\\acer\\anaconda3\\lib\\site-packages (from pandas>=0.24.2->mlxtend) (2021.3)\n",
      "Requirement already satisfied: threadpoolctl>=2.0.0 in c:\\users\\acer\\anaconda3\\lib\\site-packages (from scikit-learn>=1.0.2->mlxtend) (2.2.0)\n",
      "Installing collected packages: scikit-learn, mlxtend\n",
      "  Attempting uninstall: scikit-learn\n",
      "    Found existing installation: scikit-learn 0.24.2\n",
      "    Uninstalling scikit-learn-0.24.2:\n",
      "      Successfully uninstalled scikit-learn-0.24.2\n",
      "\n"
     ]
    },
    {
     "name": "stderr",
     "output_type": "stream",
     "text": [
      "ERROR: Could not install packages due to an OSError: [WinError 5] Access is denied: 'C:\\\\Users\\\\ACER\\\\anaconda3\\\\Lib\\\\site-packages\\\\~klearn\\\\datasets\\\\_svmlight_format_fast.cp39-win_amd64.pyd'\n",
      "Consider using the `--user` option or check the permissions.\n",
      "\n"
     ]
    }
   ],
   "source": [
    "pip install mlxtend"
   ]
  },
  {
   "cell_type": "code",
   "execution_count": 231,
   "id": "bbf694ba",
   "metadata": {},
   "outputs": [
    {
     "name": "stdout",
     "output_type": "stream",
     "text": [
      "Note: you may need to restart the kernel to use updated packages.\n"
     ]
    },
    {
     "name": "stderr",
     "output_type": "stream",
     "text": [
      "ERROR: Could not find a version that satisfies the requirement minmax_scaling (from versions: none)\n",
      "ERROR: No matching distribution found for minmax_scaling\n"
     ]
    }
   ],
   "source": [
    "pip install minmax_scaling"
   ]
  },
  {
   "cell_type": "code",
   "execution_count": 229,
   "id": "8f1dff6f",
   "metadata": {},
   "outputs": [
    {
     "ename": "ModuleNotFoundError",
     "evalue": "No module named 'minmax_scaling'",
     "output_type": "error",
     "traceback": [
      "\u001b[1;31m---------------------------------------------------------------------------\u001b[0m",
      "\u001b[1;31mModuleNotFoundError\u001b[0m                       Traceback (most recent call last)",
      "\u001b[1;32m~\\AppData\\Local\\Temp/ipykernel_13468/3911447012.py\u001b[0m in \u001b[0;36m<module>\u001b[1;34m\u001b[0m\n\u001b[0;32m      1\u001b[0m \u001b[1;32mfrom\u001b[0m \u001b[0mscipy\u001b[0m \u001b[1;32mimport\u001b[0m \u001b[0mstats\u001b[0m\u001b[1;33m\u001b[0m\u001b[1;33m\u001b[0m\u001b[0m\n\u001b[1;32m----> 2\u001b[1;33m \u001b[1;32mimport\u001b[0m \u001b[0mminmax_scaling\u001b[0m\u001b[1;33m\u001b[0m\u001b[1;33m\u001b[0m\u001b[0m\n\u001b[0m\u001b[0;32m      3\u001b[0m \u001b[1;32mimport\u001b[0m \u001b[0mseaborn\u001b[0m \u001b[1;32mas\u001b[0m \u001b[0msns\u001b[0m\u001b[1;33m\u001b[0m\u001b[1;33m\u001b[0m\u001b[0m\n\u001b[0;32m      4\u001b[0m \u001b[1;32mimport\u001b[0m \u001b[0mmatplotlib\u001b[0m\u001b[1;33m.\u001b[0m\u001b[0mpyplot\u001b[0m \u001b[1;32mas\u001b[0m \u001b[0mplt\u001b[0m\u001b[1;33m\u001b[0m\u001b[1;33m\u001b[0m\u001b[0m\n",
      "\u001b[1;31mModuleNotFoundError\u001b[0m: No module named 'minmax_scaling'"
     ]
    }
   ],
   "source": [
    "from scipy import stats\n",
    "import minmax_scaling\n",
    "import seaborn as sns\n",
    "import matplotlib.pyplot as plt"
   ]
  },
  {
   "cell_type": "code",
   "execution_count": 228,
   "id": "5d8b3f9a",
   "metadata": {},
   "outputs": [
    {
     "ename": "NameError",
     "evalue": "name 'minmax_scaling' is not defined",
     "output_type": "error",
     "traceback": [
      "\u001b[1;31m---------------------------------------------------------------------------\u001b[0m",
      "\u001b[1;31mNameError\u001b[0m                                 Traceback (most recent call last)",
      "\u001b[1;32m~\\AppData\\Local\\Temp/ipykernel_13468/3216022165.py\u001b[0m in \u001b[0;36m<module>\u001b[1;34m\u001b[0m\n\u001b[1;32m----> 1\u001b[1;33m \u001b[0mscaled_data\u001b[0m \u001b[1;33m=\u001b[0m \u001b[0mminmax_scaling\u001b[0m\u001b[1;33m(\u001b[0m\u001b[0mnew_df\u001b[0m\u001b[1;33m[\u001b[0m\u001b[1;34m\"price_for_per_metre\"\u001b[0m\u001b[1;33m]\u001b[0m\u001b[1;33m,\u001b[0m \u001b[0mcolumns\u001b[0m\u001b[1;33m=\u001b[0m\u001b[1;33m[\u001b[0m\u001b[1;36m0\u001b[0m\u001b[1;33m]\u001b[0m\u001b[1;33m)\u001b[0m\u001b[1;33m\u001b[0m\u001b[1;33m\u001b[0m\u001b[0m\n\u001b[0m",
      "\u001b[1;31mNameError\u001b[0m: name 'minmax_scaling' is not defined"
     ]
    }
   ],
   "source": [
    "scaled_data = minmax_scaling(new_df[\"price_for_per_metre\"], columns=[0])"
   ]
  },
  {
   "cell_type": "code",
   "execution_count": 241,
   "id": "ebc5704e",
   "metadata": {},
   "outputs": [],
   "source": [
    "normalized_data = stats.boxcox(new_df[\"price_for_per_metre\"])"
   ]
  },
  {
   "cell_type": "code",
   "execution_count": 242,
   "id": "dd4354e5",
   "metadata": {},
   "outputs": [
    {
     "data": {
      "image/png": "[encoded data removed]",
      "text/plain": [
       "<Figure size 1080x216 with 2 Axes>"
      ]
     },
     "metadata": {
      "needs_background": "light"
     },
     "output_type": "display_data"
    }
   ],
   "source": [
    "# vizulaize data to see differences \n",
    "fig, ax=plt.subplots(1, 2, figsize=(15, 3))\n",
    "sns.histplot(new_df[\"price_for_per_metre\"], ax=ax[0], kde=True, legend=False)\n",
    "ax[0].set_title(\"Original Data\")\n",
    "sns.histplot(normalized_data[0], ax=ax[1], kde=True, legend=False)\n",
    "ax[1].set_title(\"Normalized data\")\n",
    "plt.show() "
   ]
  },
  {
   "cell_type": "code",
   "execution_count": 263,
   "id": "4fe53679",
   "metadata": {},
   "outputs": [
    {
     "name": "stderr",
     "output_type": "stream",
     "text": [
      "C:\\Users\\ACER\\anaconda3\\lib\\site-packages\\seaborn\\distributions.py:2619: FutureWarning: `distplot` is a deprecated function and will be removed in a future version. Please adapt your code to use either `displot` (a figure-level function with similar flexibility) or `histplot` (an axes-level function for histograms).\n",
      "  warnings.warn(msg, FutureWarning)\n",
      "C:\\Users\\ACER\\anaconda3\\lib\\site-packages\\seaborn\\distributions.py:2619: FutureWarning: `distplot` is a deprecated function and will be removed in a future version. Please adapt your code to use either `displot` (a figure-level function with similar flexibility) or `histplot` (an axes-level function for histograms).\n",
      "  warnings.warn(msg, FutureWarning)\n"
     ]
    },
    {
     "data": {
      "image/png": "[encoded data removed]",
      "text/plain": [
       "<Figure size 1080x216 with 2 Axes>"
      ]
     },
     "metadata": {
      "needs_background": "light"
     },
     "output_type": "display_data"
    }
   ],
   "source": [
    "fig, ax=plt.subplots(1, 2, figsize=(15, 3))\n",
    "sns.distplot(new_df[\"price_for_per_metre\"], ax=ax[0], kde=True)\n",
    "ax[0].set_title(\"Original Data\")\n",
    "sns.distplot(normalized_data[0], ax=ax[1], kde=True)\n",
    "ax[1].set_title(\"Normalized data\")\n",
    "plt.show() "
   ]
  },
  {
   "cell_type": "markdown",
   "id": "4498d512",
   "metadata": {},
   "source": [
    "# Binning the column of price for per square(metre) "
   ]
  },
  {
   "cell_type": "code",
   "execution_count": 247,
   "id": "b4aefd83",
   "metadata": {},
   "outputs": [],
   "source": [
    "# for practice \n",
    "new_df[\"price_for_per_square\"] = pd.cut(new_df[\"price_for_per_metre\"],3,labels=[\"cheap\",\"medium\",\"expensive\"])"
   ]
  },
  {
   "cell_type": "code",
   "execution_count": 250,
   "id": "a1195795",
   "metadata": {},
   "outputs": [
    {
     "data": {
      "text/plain": [
       "0        cheap\n",
       "1        cheap\n",
       "2        cheap\n",
       "3        cheap\n",
       "4        cheap\n",
       "         ...  \n",
       "69310    cheap\n",
       "69311    cheap\n",
       "69312    cheap\n",
       "69313    cheap\n",
       "69314    cheap\n",
       "Name: price_for_per_square, Length: 69181, dtype: category\n",
       "Categories (3, object): ['cheap' < 'medium' < 'expensive']"
      ]
     },
     "execution_count": 250,
     "metadata": {},
     "output_type": "execute_result"
    }
   ],
   "source": [
    "new_df[\"price_for_per_square\"]"
   ]
  },
  {
   "cell_type": "code",
   "execution_count": 251,
   "id": "afd2c4f6",
   "metadata": {},
   "outputs": [
    {
     "data": {
      "text/plain": [
       "cheap        67404\n",
       "medium        1680\n",
       "expensive       97\n",
       "Name: price_for_per_square, dtype: int64"
      ]
     },
     "execution_count": 251,
     "metadata": {},
     "output_type": "execute_result"
    }
   ],
   "source": [
    "new_df[\"price_for_per_square\"].value_counts()"
   ]
  },
  {
   "cell_type": "code",
   "execution_count": null,
   "id": "9c291453",
   "metadata": {},
   "outputs": [],
   "source": []
  },
  {
   "cell_type": "code",
   "execution_count": null,
   "id": "bcbb4967",
   "metadata": {},
   "outputs": [],
   "source": []
  }
 ],
 "metadata": {
  "kernelspec": {
   "display_name": "Python 3 (ipykernel)",
   "language": "python",
   "name": "python3"
  },
  "language_info": {
   "codemirror_mode": {
    "name": "ipython",
    "version": 3
   },
   "file_extension": ".py",
   "mimetype": "text/x-python",
   "name": "python",
   "nbconvert_exporter": "python",
   "pygments_lexer": "ipython3",
   "version": "3.9.7"
  }
 },
 "nbformat": 4,
 "nbformat_minor": 5
}
